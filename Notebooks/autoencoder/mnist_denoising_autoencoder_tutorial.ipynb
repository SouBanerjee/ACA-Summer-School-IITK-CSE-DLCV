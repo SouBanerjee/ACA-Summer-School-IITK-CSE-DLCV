{
 "cells": [
  {
   "cell_type": "code",
   "execution_count": 1,
   "metadata": {},
   "outputs": [],
   "source": [
    "import torch\n",
    "import numpy as np\n",
    "import matplotlib.pyplot as plt\n",
    "\n",
    "import torchvision\n",
    "import torchvision.datasets as datasets\n",
    "import torchvision.transforms as transforms"
   ]
  },
  {
   "cell_type": "markdown",
   "metadata": {},
   "source": [
    "# Denoising AutoEncoder Tutorial "
   ]
  },
  {
   "cell_type": "markdown",
   "metadata": {},
   "source": [
    "![](https://lilianweng.github.io/posts/2018-08-12-vae/denoising-autoencoder-architecture.png)"
   ]
  },
  {
   "cell_type": "markdown",
   "metadata": {},
   "source": [
    "**[Further Reading](https://lilianweng.github.io/posts/2018-08-12-vae/)**"
   ]
  },
  {
   "cell_type": "markdown",
   "metadata": {},
   "source": [
    "### Define Transformation"
   ]
  },
  {
   "cell_type": "code",
   "execution_count": 2,
   "metadata": {},
   "outputs": [],
   "source": [
    "train_transform = transforms.Compose([transforms.RandomResizedCrop(32), transforms.RandomHorizontalFlip(),\n",
    "                                     transforms.ToTensor(), transforms.Normalize((0.5,), (0.5,))])\n",
    "\n",
    "test_transform = transforms.Compose([transforms.Resize(32), \n",
    "                                     transforms.ToTensor(), transforms.Normalize((0.5,), (0.5,))])"
   ]
  },
  {
   "cell_type": "markdown",
   "metadata": {},
   "source": [
    "### Load train and test data"
   ]
  },
  {
   "cell_type": "code",
   "execution_count": 3,
   "metadata": {},
   "outputs": [],
   "source": [
    "train_dataset = datasets.MNIST(root='../data', train=True, download=True, transform=train_transform)\n",
    "\n",
    "test_dataset = datasets.MNIST(root='../data', train=False, download=True, transform=test_transform)"
   ]
  },
  {
   "cell_type": "code",
   "execution_count": 4,
   "metadata": {},
   "outputs": [],
   "source": [
    "train_loader = torch.utils.data.DataLoader(train_dataset, batch_size=64, \n",
    "                                           shuffle=True, num_workers=4, \n",
    "                                           pin_memory=True)\n",
    "\n",
    "\n",
    "\n",
    "test_loader = torch.utils.data.DataLoader(test_dataset, batch_size=64, shuffle=True,\n",
    "                                          num_workers=4, pin_memory=True)"
   ]
  },
  {
   "cell_type": "code",
   "execution_count": 5,
   "metadata": {},
   "outputs": [
    {
     "name": "stdout",
     "output_type": "stream",
     "text": [
      "Python 3.7.7\r\n"
     ]
    }
   ],
   "source": [
    "!python --version"
   ]
  },
  {
   "cell_type": "markdown",
   "metadata": {},
   "source": [
    "## Define AutoEncoder "
   ]
  },
  {
   "cell_type": "code",
   "execution_count": 6,
   "metadata": {},
   "outputs": [],
   "source": [
    "import torch.nn as nn\n",
    "import torch.nn.init as init\n",
    "\n",
    "class View(nn.Module):\n",
    "    def __init__(self, size):\n",
    "        super(View, self).__init__()\n",
    "        self.size = size\n",
    "\n",
    "    def forward(self, tensor):\n",
    "        return tensor.view(self.size)\n",
    "\n",
    "\n",
    "class AE(nn.Module):\n",
    "    \n",
    "    def __init__(self, z_dim=32, nc=1):\n",
    "        super(AE, self).__init__()\n",
    "        self.z_dim = z_dim\n",
    "        self.nc = nc\n",
    "        self.encoder = nn.Sequential(\n",
    "            nn.Conv2d(nc, 32, 4, 2, 1, bias=False),              # B,  128, 32, 32\n",
    "            nn.BatchNorm2d(32),\n",
    "            nn.ReLU(True),\n",
    "            nn.Conv2d(32, 64, 4, 2, 1, bias=False),             # B,  256, 16, 16\n",
    "            nn.BatchNorm2d(64),\n",
    "            nn.ReLU(True),\n",
    "            nn.Conv2d(64, 128, 4, 2, 1, bias=False),             # B,  512,  8,  8\n",
    "            nn.BatchNorm2d(128),\n",
    "            nn.ReLU(True),\n",
    "            nn.Conv2d(128, 256, 4, 2, 1, bias=False),            # B, 1024,  4,  4\n",
    "            nn.BatchNorm2d(256),\n",
    "            nn.ReLU(True),\n",
    "            View((-1, 256*2*2)),                                 # B, 1024*2*2\n",
    "            nn.Linear(256*2*2, z_dim)                            # B, z_dim\n",
    "        )\n",
    "\n",
    "        \n",
    "        self.decoder = nn.Sequential(\n",
    "            nn.Linear(z_dim, 256*4*4),                           # B, 1024*4*4\n",
    "            View((-1, 256, 4, 4)),                               # B, 1024,  4,  4\n",
    "            nn.ConvTranspose2d(256, 128, 4, 2, 1, bias=False),   # B,  512, 8, 8\n",
    "            nn.BatchNorm2d(128),\n",
    "            nn.ReLU(True),\n",
    "            nn.ConvTranspose2d(128, 64, 4, 2, 1, bias=False),    # B,  256, 16, 16\n",
    "            nn.BatchNorm2d(64),\n",
    "            nn.ReLU(True),\n",
    "            nn.ConvTranspose2d(64, 32, 4, 2, 1, bias=False),    # B,  128, 32, 32\n",
    "            nn.BatchNorm2d(32),\n",
    "            nn.ReLU(True),\n",
    "            nn.ConvTranspose2d(32, nc, 1),                       # B,   nc, 32, 32\n",
    "            nn.Tanh()\n",
    "        )\n",
    "        self.weight_init()\n",
    "\n",
    "    def weight_init(self):\n",
    "        for block in self._modules:\n",
    "            try:\n",
    "                for m in self._modules[block]:\n",
    "                    kaiming_init(m)\n",
    "            except:\n",
    "                kaiming_init(block)\n",
    "\n",
    "    def forward(self, x):\n",
    "        z = self._encode(x)\n",
    "        x_recon = self._decode(z)\n",
    "\n",
    "        return x_recon, z\n",
    "\n",
    "    def _encode(self, x):\n",
    "        return self.encoder(x)\n",
    "\n",
    "    def _decode(self, z):\n",
    "        return self.decoder(z)\n",
    "    \n",
    "def kaiming_init(m):\n",
    "    if isinstance(m, (nn.Linear, nn.Conv2d)):\n",
    "        init.kaiming_normal_(m.weight)\n",
    "        if m.bias is not None:\n",
    "            m.bias.data.fill_(0)\n",
    "    elif isinstance(m, (nn.BatchNorm1d, nn.BatchNorm2d)):\n",
    "        m.weight.data.fill_(1)\n",
    "        if m.bias is not None:\n",
    "            m.bias.data.fill_(0)"
   ]
  },
  {
   "cell_type": "code",
   "execution_count": 7,
   "metadata": {},
   "outputs": [
    {
     "name": "stdout",
     "output_type": "stream",
     "text": [
      "AE(\n",
      "  (encoder): Sequential(\n",
      "    (0): Conv2d(1, 32, kernel_size=(4, 4), stride=(2, 2), padding=(1, 1), bias=False)\n",
      "    (1): BatchNorm2d(32, eps=1e-05, momentum=0.1, affine=True, track_running_stats=True)\n",
      "    (2): ReLU(inplace=True)\n",
      "    (3): Conv2d(32, 64, kernel_size=(4, 4), stride=(2, 2), padding=(1, 1), bias=False)\n",
      "    (4): BatchNorm2d(64, eps=1e-05, momentum=0.1, affine=True, track_running_stats=True)\n",
      "    (5): ReLU(inplace=True)\n",
      "    (6): Conv2d(64, 128, kernel_size=(4, 4), stride=(2, 2), padding=(1, 1), bias=False)\n",
      "    (7): BatchNorm2d(128, eps=1e-05, momentum=0.1, affine=True, track_running_stats=True)\n",
      "    (8): ReLU(inplace=True)\n",
      "    (9): Conv2d(128, 256, kernel_size=(4, 4), stride=(2, 2), padding=(1, 1), bias=False)\n",
      "    (10): BatchNorm2d(256, eps=1e-05, momentum=0.1, affine=True, track_running_stats=True)\n",
      "    (11): ReLU(inplace=True)\n",
      "    (12): View()\n",
      "    (13): Linear(in_features=1024, out_features=32, bias=True)\n",
      "  )\n",
      "  (decoder): Sequential(\n",
      "    (0): Linear(in_features=32, out_features=4096, bias=True)\n",
      "    (1): View()\n",
      "    (2): ConvTranspose2d(256, 128, kernel_size=(4, 4), stride=(2, 2), padding=(1, 1), bias=False)\n",
      "    (3): BatchNorm2d(128, eps=1e-05, momentum=0.1, affine=True, track_running_stats=True)\n",
      "    (4): ReLU(inplace=True)\n",
      "    (5): ConvTranspose2d(128, 64, kernel_size=(4, 4), stride=(2, 2), padding=(1, 1), bias=False)\n",
      "    (6): BatchNorm2d(64, eps=1e-05, momentum=0.1, affine=True, track_running_stats=True)\n",
      "    (7): ReLU(inplace=True)\n",
      "    (8): ConvTranspose2d(64, 32, kernel_size=(4, 4), stride=(2, 2), padding=(1, 1), bias=False)\n",
      "    (9): BatchNorm2d(32, eps=1e-05, momentum=0.1, affine=True, track_running_stats=True)\n",
      "    (10): ReLU(inplace=True)\n",
      "    (11): ConvTranspose2d(32, 1, kernel_size=(1, 1), stride=(1, 1))\n",
      "    (12): Tanh()\n",
      "  )\n",
      ")\n",
      "torch.Size([10, 1, 32, 32])\n",
      "torch.Size([10, 1, 32, 32]) torch.Size([10, 32])\n"
     ]
    }
   ],
   "source": [
    "model = AE()\n",
    "print(model)\n",
    "\n",
    "data = torch.randn(10, 1, 32, 32)\n",
    "with torch.no_grad():\n",
    "    x_recon, z = model(data)\n",
    "    \n",
    "print(data.shape)\n",
    "print(x_recon.shape, z.shape)"
   ]
  },
  {
   "cell_type": "markdown",
   "metadata": {},
   "source": [
    "### Training"
   ]
  },
  {
   "cell_type": "code",
   "execution_count": 8,
   "metadata": {},
   "outputs": [],
   "source": [
    "# loss function\n",
    "criterion = nn.MSELoss()\n",
    "\n",
    "# optimizer\n",
    "optimizer = torch.optim.Adam(model.parameters(), lr=0.001)"
   ]
  },
  {
   "cell_type": "code",
   "execution_count": 9,
   "metadata": {
    "scrolled": true
   },
   "outputs": [
    {
     "name": "stdout",
     "output_type": "stream",
     "text": [
      "Epoch: [1/100] \tTraining Loss: 12.336315\n",
      "Epoch: [2/100] \tTraining Loss: 8.548572\n",
      "Epoch: [3/100] \tTraining Loss: 7.924002\n",
      "Epoch: [4/100] \tTraining Loss: 7.806900\n",
      "Epoch: [5/100] \tTraining Loss: 7.713915\n",
      "Epoch: [6/100] \tTraining Loss: 7.653636\n",
      "Epoch: [7/100] \tTraining Loss: 7.604488\n",
      "Epoch: [8/100] \tTraining Loss: 7.566607\n",
      "Epoch: [9/100] \tTraining Loss: 7.540503\n",
      "Epoch: [10/100] \tTraining Loss: 7.505609\n",
      "Epoch: [11/100] \tTraining Loss: 7.483924\n",
      "Epoch: [12/100] \tTraining Loss: 7.466956\n",
      "Epoch: [13/100] \tTraining Loss: 7.444518\n",
      "Epoch: [14/100] \tTraining Loss: 7.429516\n",
      "Epoch: [15/100] \tTraining Loss: 7.421558\n",
      "Epoch: [16/100] \tTraining Loss: 7.403281\n",
      "Epoch: [17/100] \tTraining Loss: 7.396796\n",
      "Epoch: [18/100] \tTraining Loss: 7.386269\n",
      "Epoch: [19/100] \tTraining Loss: 7.375831\n",
      "Epoch: [20/100] \tTraining Loss: 7.364943\n",
      "Epoch: [21/100] \tTraining Loss: 7.362569\n",
      "Epoch: [22/100] \tTraining Loss: 7.349128\n",
      "Epoch: [23/100] \tTraining Loss: 7.341344\n",
      "Epoch: [24/100] \tTraining Loss: 7.340911\n",
      "Epoch: [25/100] \tTraining Loss: 7.337383\n",
      "Epoch: [26/100] \tTraining Loss: 7.328697\n",
      "Epoch: [27/100] \tTraining Loss: 7.316618\n",
      "Epoch: [28/100] \tTraining Loss: 7.315632\n",
      "Epoch: [29/100] \tTraining Loss: 7.311247\n",
      "Epoch: [30/100] \tTraining Loss: 7.304266\n",
      "Epoch: [31/100] \tTraining Loss: 7.306494\n",
      "Epoch: [32/100] \tTraining Loss: 7.302358\n",
      "Epoch: [33/100] \tTraining Loss: 7.289461\n",
      "Epoch: [34/100] \tTraining Loss: 7.288211\n",
      "Epoch: [35/100] \tTraining Loss: 7.287534\n",
      "Epoch: [36/100] \tTraining Loss: 7.282691\n",
      "Epoch: [37/100] \tTraining Loss: 7.279789\n",
      "Epoch: [38/100] \tTraining Loss: 7.281921\n",
      "Epoch: [39/100] \tTraining Loss: 7.277800\n",
      "Epoch: [40/100] \tTraining Loss: 7.270065\n",
      "Epoch: [41/100] \tTraining Loss: 7.269406\n",
      "Epoch: [42/100] \tTraining Loss: 7.271967\n",
      "Epoch: [43/100] \tTraining Loss: 7.267835\n",
      "Epoch: [44/100] \tTraining Loss: 7.255847\n",
      "Epoch: [45/100] \tTraining Loss: 7.262393\n",
      "Epoch: [46/100] \tTraining Loss: 7.258063\n",
      "Epoch: [47/100] \tTraining Loss: 7.258842\n",
      "Epoch: [48/100] \tTraining Loss: 7.248581\n",
      "Epoch: [49/100] \tTraining Loss: 7.249993\n",
      "Epoch: [50/100] \tTraining Loss: 7.252965\n",
      "Epoch: [51/100] \tTraining Loss: 7.248707\n",
      "Epoch: [52/100] \tTraining Loss: 7.249872\n",
      "Epoch: [53/100] \tTraining Loss: 7.240102\n",
      "Epoch: [54/100] \tTraining Loss: 7.238331\n",
      "Epoch: [55/100] \tTraining Loss: 7.240948\n",
      "Epoch: [56/100] \tTraining Loss: 7.238813\n",
      "Epoch: [57/100] \tTraining Loss: 7.232103\n",
      "Epoch: [58/100] \tTraining Loss: 7.235406\n",
      "Epoch: [59/100] \tTraining Loss: 7.230226\n",
      "Epoch: [60/100] \tTraining Loss: 7.237129\n",
      "Epoch: [61/100] \tTraining Loss: 7.231497\n",
      "Epoch: [62/100] \tTraining Loss: 7.229989\n",
      "Epoch: [63/100] \tTraining Loss: 7.234479\n",
      "Epoch: [64/100] \tTraining Loss: 7.225409\n",
      "Epoch: [65/100] \tTraining Loss: 7.223727\n",
      "Epoch: [66/100] \tTraining Loss: 7.221807\n",
      "Epoch: [67/100] \tTraining Loss: 7.222176\n",
      "Epoch: [68/100] \tTraining Loss: 7.218971\n",
      "Epoch: [69/100] \tTraining Loss: 7.218207\n",
      "Epoch: [70/100] \tTraining Loss: 7.219231\n",
      "Epoch: [71/100] \tTraining Loss: 7.213783\n",
      "Epoch: [72/100] \tTraining Loss: 7.221962\n",
      "Epoch: [73/100] \tTraining Loss: 7.213833\n",
      "Epoch: [74/100] \tTraining Loss: 7.211482\n",
      "Epoch: [75/100] \tTraining Loss: 7.215485\n",
      "Epoch: [76/100] \tTraining Loss: 7.205169\n",
      "Epoch: [77/100] \tTraining Loss: 7.209884\n",
      "Epoch: [78/100] \tTraining Loss: 7.208771\n",
      "Epoch: [79/100] \tTraining Loss: 7.206947\n",
      "Epoch: [80/100] \tTraining Loss: 7.206586\n",
      "Epoch: [81/100] \tTraining Loss: 7.208302\n",
      "Epoch: [82/100] \tTraining Loss: 7.208363\n",
      "Epoch: [83/100] \tTraining Loss: 7.203533\n",
      "Epoch: [84/100] \tTraining Loss: 7.205332\n",
      "Epoch: [85/100] \tTraining Loss: 7.199782\n",
      "Epoch: [86/100] \tTraining Loss: 7.198443\n",
      "Epoch: [87/100] \tTraining Loss: 7.204275\n",
      "Epoch: [88/100] \tTraining Loss: 7.202180\n",
      "Epoch: [89/100] \tTraining Loss: 7.200661\n",
      "Epoch: [90/100] \tTraining Loss: 7.195704\n",
      "Epoch: [91/100] \tTraining Loss: 7.194520\n",
      "Epoch: [92/100] \tTraining Loss: 7.196234\n",
      "Epoch: [93/100] \tTraining Loss: 7.195710\n",
      "Epoch: [94/100] \tTraining Loss: 7.195999\n",
      "Epoch: [95/100] \tTraining Loss: 7.194887\n",
      "Epoch: [96/100] \tTraining Loss: 7.190648\n",
      "Epoch: [97/100] \tTraining Loss: 7.188670\n",
      "Epoch: [98/100] \tTraining Loss: 7.191503\n",
      "Epoch: [99/100] \tTraining Loss: 7.185386\n",
      "Epoch: [100/100] \tTraining Loss: 7.188287\n"
     ]
    }
   ],
   "source": [
    "n_epochs = 100\n",
    "\n",
    "model.train()\n",
    "\n",
    "device = torch.device('cuda:0' if torch.cuda.is_available() else 'cpu')\n",
    "\n",
    "model.to(device)\n",
    "\n",
    "noise_rate = 0.5\n",
    "\n",
    "for epoch in range(1, n_epochs+1):\n",
    "    # monitor training loss\n",
    "    train_loss = 0.0\n",
    "    \n",
    "    ###################\n",
    "    # train the model #\n",
    "    ###################\n",
    "    for i, (images, _) in enumerate(train_loader):\n",
    "        # _ stands in for labels,\n",
    "        images = images.to(device)\n",
    "        \n",
    "        noise = noise_rate * torch.randn(images.size()).to(device)\n",
    "        \n",
    "        images += noise\n",
    "        \n",
    "        images = torch.clip(images, -1, 1)\n",
    "        \n",
    "        # clear the gradients of all optimized variables\n",
    "        optimizer.zero_grad()\n",
    "        model.zero_grad()\n",
    "        # forward pass: compute predicted outputs by passing inputs to the model\n",
    "        outputs, _ = model(images)\n",
    "        # calculate the loss\n",
    "        loss = criterion(outputs, images)\n",
    "        # backward pass: compute gradient of the loss with respect to model parameters\n",
    "        loss.backward()\n",
    "        # perform a single optimization step (parameter update)\n",
    "        optimizer.step()\n",
    "        # update running training loss\n",
    "        train_loss += loss.item()*images.size(0)\n",
    "            \n",
    "    # print avg training statistics \n",
    "    train_loss = train_loss/len(train_loader)\n",
    "    print('Epoch: [{}/{}] \\tTraining Loss: {:.6f}'.format(epoch, n_epochs, train_loss))"
   ]
  },
  {
   "cell_type": "markdown",
   "metadata": {},
   "source": [
    "### Checking the results"
   ]
  },
  {
   "cell_type": "code",
   "execution_count": 10,
   "metadata": {},
   "outputs": [
    {
     "data": {
      "image/png": "[encoded data removed]",
      "text/plain": [
       "<Figure size 1800x288 with 20 Axes>"
      ]
     },
     "metadata": {
      "needs_background": "light"
     },
     "output_type": "display_data"
    }
   ],
   "source": [
    "# obtain one batch of test images\n",
    "dataiter = iter(test_loader)\n",
    "images, labels = next(dataiter)\n",
    "images = images.to(device)\n",
    "\n",
    "noise = noise_rate * torch.randn(images.size()).to(device)\n",
    "images += noise\n",
    "images = torch.clip(images, -1, 1)\n",
    "\n",
    "# get sample outputs\n",
    "output, _ = model(images)\n",
    "# prep images for display\n",
    "images = images.detach().cpu().numpy()\n",
    "\n",
    "\n",
    "# use detach when it's an output that requires_grad\n",
    "output = output.detach().cpu().numpy()\n",
    "\n",
    "images = images[:20]\n",
    "output = output[:20]\n",
    "\n",
    "# plot the first ten input images and then reconstructed images\n",
    "fig, axes = plt.subplots(nrows=2, ncols=10, sharex=True, sharey=True, figsize=(25,4))\n",
    "\n",
    "# input images on top row, reconstructions on bottom\n",
    "for images, row in zip([images, output], axes):\n",
    "    for img, ax in zip(images, row):\n",
    "        ax.imshow(np.squeeze(img), cmap='gray')\n",
    "        ax.get_xaxis().set_visible(False)\n",
    "        ax.get_yaxis().set_visible(False)"
   ]
  },
  {
   "cell_type": "code",
   "execution_count": null,
   "metadata": {},
   "outputs": [],
   "source": []
  }
 ],
 "metadata": {
  "kernelspec": {
   "display_name": "Python 3",
   "language": "python",
   "name": "python3"
  },
  "language_info": {
   "codemirror_mode": {
    "name": "ipython",
    "version": 3
   },
   "file_extension": ".py",
   "mimetype": "text/x-python",
   "name": "python",
   "nbconvert_exporter": "python",
   "pygments_lexer": "ipython3",
   "version": "3.7.7"
  }
 },
 "nbformat": 4,
 "nbformat_minor": 4
}
