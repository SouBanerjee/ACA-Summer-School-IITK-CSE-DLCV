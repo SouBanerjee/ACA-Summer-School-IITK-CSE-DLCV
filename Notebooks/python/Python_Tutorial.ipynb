{
 "cells": [
  {
   "cell_type": "markdown",
   "metadata": {
    "id": "Iofgm5TrY8Dd"
   },
   "source": [
    "# Python Tutorial\n",
    "\n",
    "The official [python tutorial](https://docs.python.org/3/tutorial/)\n",
    "\n",
    "The language is named after the BBC show **Monty Python’s Flying Circus** and has nothing to do with **reptiles**.\n",
    "\n",
    "\n",
    "**Creator of Python Language** - [Guido van Rossum](https://gvanrossum.github.io/) "
   ]
  },
  {
   "cell_type": "markdown",
   "metadata": {
    "id": "WFmLsCjpZfrf"
   },
   "source": [
    "# Table of Content\n",
    "\n",
    "1. Interpreter\n",
    "2. Variables & Built in Data-structures\n",
    "3. Conditional\n",
    "4. Function\n",
    "5. while loop\n",
    "6. for loop\n",
    "7. Random number\n",
    "8. Generator Function\n",
    "9. Class, Inheritance\n",
    "10. Asserts, exceptions\n",
    "11. Input Output (I/O)\n",
    "12. The Pythonic Way\n",
    "13. Brief tour to Standard Library\n",
    "14. Anaconda Package Manager"
   ]
  },
  {
   "cell_type": "markdown",
   "metadata": {
    "id": "w4LpBYrEbUpp"
   },
   "source": [
    "## Why choose python for Deep Learning Research?\n",
    "Early Deep learning era was built on top of Lua ([Torch](http://torch.ch/)) and python ([Theano](https://github.com/Theano/Theano)). But somehow python stands out in the follwoing points.  \n",
    "\n",
    "0. Shorter codes.\n",
    "1. Momentum, rapid prototyping and rapid application development.\n",
    "2. Vibrant Comminity, and Community support.\n",
    "3. Excellent eco-system of library and package managers.\n",
    "4. Good Debugging tools.\n",
    "5. Better OS intrigration.\n",
    "\n",
    "Later google built [TensorFlow](https://www.tensorflow.org/) with full python api support and facebook adopted Soumit Chintala's [PyTroch](https://pytorch.org/) and start supporting it. Both of them are now excellent framework for doing Deep Learning Research and Deployment.\n",
    "\n",
    "Now **Python has become the Mother-tongue of scientific Programming.**"
   ]
  },
  {
   "cell_type": "markdown",
   "metadata": {
    "id": "ozzlBP6unuhe"
   },
   "source": [
    "# 1. Interpreter\n",
    "\n",
    "One of the major difference between compiler and interpreter is **when** and **how** the compilation and execution is done? \n",
    "\n",
    "In Compiler based language, Compilation is done before the execution.\n",
    "In Interpreter based language, the Compilation and Execution take place simultaneously. It enables us to create **this** type of notebook where we can run each cell, see the output and again run a set of new command. This is simply,\n",
    "\n",
    "$$GREAT \\ \\  FOR \\ \\  DEBUGGING$$\n",
    "\n",
    "Also it helps us to take **educative decisions** while inspecting any phenomena inside the **data** or **model**.\n",
    "\n"
   ]
  },
  {
   "cell_type": "markdown",
   "metadata": {
    "id": "UWTF-tkMzfnR"
   },
   "source": [
    "## Code running\n",
    "\n",
    "3 different ways.\n",
    "\n",
    "1. **From shell :** from the terminal write `python -c \"python code\"`\n",
    "2. **From a *.py file :** Write python code in a text file\n",
    "3. **Interactive mode :** In the shell write `python` and an interactive python shell will start where you can run python code line by line. Same feature is used for creating **this** types of **notebook**."
   ]
  },
  {
   "cell_type": "markdown",
   "metadata": {
    "id": "rqXwepIQzN2p"
   },
   "source": [
    "### From Shell"
   ]
  },
  {
   "cell_type": "code",
   "execution_count": 1,
   "metadata": {
    "colab": {
     "base_uri": "https://localhost:8080/",
     "height": 52
    },
    "id": "qoG4aaQ18ST_",
    "outputId": "b7e6f2ed-5b68-4997-e5bc-683def60c1eb"
   },
   "outputs": [
    {
     "name": "stdout",
     "output_type": "stream",
     "text": [
      "Hello Word\r\n",
      "1.13.1\r\n"
     ]
    }
   ],
   "source": [
    "!python -c 'import torch; print(\"Hello Word\"); print(torch.__version__)'"
   ]
  },
  {
   "cell_type": "markdown",
   "metadata": {
    "id": "lFIDknzPzSop"
   },
   "source": [
    "### From a *.py file\n",
    "\n",
    "Let's create the python file first. and then run the python file from terminal. In real life you can use an editor (like [VSCode](https://code.visualstudio.com/)) to create the python code and save it as `*.py` extension."
   ]
  },
  {
   "cell_type": "code",
   "execution_count": 5,
   "metadata": {
    "colab": {
     "base_uri": "https://localhost:8080/",
     "height": 125
    },
    "id": "fxRSmOMTwcvI",
    "outputId": "58e26d7a-ae4a-48aa-ce57-7c3255096ccf"
   },
   "outputs": [
    {
     "name": "stdout",
     "output_type": "stream",
     "text": [
      "import torch\n",
      "print(\"Hello Word\")\n",
      "print(torch.__version__)\n",
      "Hello Word\n",
      "1.13.1\n"
     ]
    }
   ],
   "source": [
    "!rm hello_word.py # delete if any hello_world.py is there\n",
    "!touch hello_word.py # create an empty hello_world.oy text file\n",
    "!echo -e \"import torch\" >> hello_word.py  #write on hello_world.py file\n",
    "!echo -e \"print(\\\"Hello Word\\\")\" >> hello_word.py #write on hello_world.py file\n",
    "!echo -e \"print(torch.__version__)\" >> hello_word.py #write on hello_world.py file\n",
    "!cat hello_word.py # View helloworld.py\n",
    "!python hello_word.py # run hello_world.py"
   ]
  },
  {
   "cell_type": "markdown",
   "metadata": {
    "id": "CbDMa6H7101u"
   },
   "source": [
    "### Interactive mode\n"
   ]
  },
  {
   "cell_type": "code",
   "execution_count": 6,
   "metadata": {
    "colab": {
     "base_uri": "https://localhost:8080/",
     "height": 89
    },
    "id": "Ske0iL2F0FYi",
    "outputId": "3008da88-9182-4733-f303-bb3fb7f7c955"
   },
   "outputs": [
    {
     "name": "stdout",
     "output_type": "stream",
     "text": [
      "Hello Word\n",
      "1.13.1\n",
      "[1, 0, 0, 0, 0]\n"
     ]
    }
   ],
   "source": [
    "import torch\n",
    "print(\"Hello Word\")\n",
    "print(torch.__version__)\n",
    "arr = [0,0,0,0,0]\n",
    "arr[0] = arr[0]+1\n",
    "print(arr)"
   ]
  },
  {
   "cell_type": "markdown",
   "metadata": {
    "id": "5uP1wc3a4-CB"
   },
   "source": [
    "# 2. Variables & Built in Data-structures"
   ]
  },
  {
   "cell_type": "markdown",
   "metadata": {
    "id": "5Eljaojy6xcr"
   },
   "source": [
    "## Variable Declaration\n",
    "- Declare a variable with an `=` sign and assign a value to it.\n",
    "- to see the data type use `type()` function\n",
    "- make sure you know about the automatic type conversion. mainly for `floating` point numbers.\n",
    "- run simple operations with operator `+,-,*,/, %, **`. `%` is modulus operation and `**` power operation. `a**c` is equivalent to $a^c$ \n",
    "- import python libraries by `import library_name`.\n",
    "- In python each of the variable is a class."
   ]
  },
  {
   "cell_type": "code",
   "execution_count": 7,
   "metadata": {
    "colab": {
     "base_uri": "https://localhost:8080/",
     "height": 73
    },
    "id": "bSwZNf_D0T2K",
    "outputId": "16212b2f-e6e9-4aff-94df-fb3f0390ab95"
   },
   "outputs": [
    {
     "name": "stdout",
     "output_type": "stream",
     "text": [
      "5 5.0 The quick brown for runs over the lazy dog 0.001 1000.0 True False\n",
      "<class 'int'> <class 'float'> <class 'str'> <class 'float'> <class 'float'> <class 'bool'> <class 'bool'>\n"
     ]
    }
   ],
   "source": [
    "var0 = 5\n",
    "var1 = 5.0\n",
    "var2 = 'The quick brown for runs over the lazy dog'\n",
    "var3 = 1e-3 # 0.001\n",
    "var4 = 1e3 # 0.001\n",
    "var5 = True\n",
    "var6 = False\n",
    "arr = [1,2,3,4]\n",
    "print(var0, var1, var2, var3, var4, var5, var6)\n",
    "print(type(var0), type(var1), type(var2), type(var3), type(var4), type(var5), type(var6))"
   ]
  },
  {
   "cell_type": "code",
   "execution_count": 8,
   "metadata": {
    "colab": {
     "base_uri": "https://localhost:8080/",
     "height": 116
    },
    "id": "W_vWQ17M3Hxu",
    "outputId": "414e8122-dd8b-460a-d4a2-f4e4f960df31"
   },
   "outputs": [
    {
     "name": "stdout",
     "output_type": "stream",
     "text": [
      "a = 5/3 = 1.6666666666666667 <class 'float'>\n",
      "a = 5.0/3 = 1.6666666666666667 <class 'float'>\n",
      "a = 5/3.0 = 1.6666666666666667 <class 'float'>\n",
      "a = 5//3 = 1 <class 'int'>\n",
      "a = 5.0//3 = 1.0 <class 'float'>\n",
      "a = 5//3.0 = 1.0 <class 'float'>\n"
     ]
    }
   ],
   "source": [
    "a = 5/3\n",
    "print(\"a = 5/3 =\", a, type(a))\n",
    "a = 5.0/3\n",
    "print(\"a = 5.0/3 =\", a, type(a))\n",
    "a = 5/3.0\n",
    "print(\"a = 5/3.0 =\", a, type(a))\n",
    "a = 5//3\n",
    "print(\"a = 5//3 =\", a, type(a))\n",
    "a = 5.0//3\n",
    "print(\"a = 5.0//3 =\", a, type(a)) \n",
    "a = 5//3.0\n",
    "print(\"a = 5//3.0 =\", a, type(a))"
   ]
  },
  {
   "cell_type": "code",
   "execution_count": 9,
   "metadata": {
    "id": "ufvSarOZ3H0i"
   },
   "outputs": [],
   "source": [
    "a = 5\n",
    "b = a+1\n",
    "b += 1 # b = b+1"
   ]
  },
  {
   "cell_type": "code",
   "execution_count": 10,
   "metadata": {
    "colab": {
     "base_uri": "https://localhost:8080/",
     "height": 100
    },
    "id": "un44_9T1JrRO",
    "outputId": "a0739c5b-d0e7-45d0-e82c-8f20d9d106b3"
   },
   "outputs": [
    {
     "name": "stdout",
     "output_type": "stream",
     "text": [
      "<class 'str'> 1\n",
      "<class 'int'> 1\n",
      "<class 'int'> 1\n",
      "<class 'str'> 1\n",
      "3.14159265 3 3.0\n"
     ]
    }
   ],
   "source": [
    "a = '1'\n",
    "print(type(a), a)\n",
    "b = int(a)\n",
    "print(type(b), b)\n",
    "c = 1\n",
    "print(type(c), c)\n",
    "d = str(c)\n",
    "print(type(d), d)\n",
    "k = 3.14159265\n",
    "print(k, int(k), float(int(k)))"
   ]
  },
  {
   "cell_type": "markdown",
   "metadata": {
    "id": "5YBtEAVx76HA"
   },
   "source": [
    "**Note:** unlike C/C++ code, `++` is invalid in python.\n"
   ]
  },
  {
   "cell_type": "code",
   "execution_count": 11,
   "metadata": {
    "colab": {
     "base_uri": "https://localhost:8080/",
     "height": 130
    },
    "id": "baEZfKbw3H2d",
    "outputId": "71420409-93e4-4313-9abc-da584e11a04c"
   },
   "outputs": [
    {
     "ename": "SyntaxError",
     "evalue": "invalid syntax (2543343426.py, line 1)",
     "output_type": "error",
     "traceback": [
      "\u001b[0;36m  Cell \u001b[0;32mIn[11], line 1\u001b[0;36m\u001b[0m\n\u001b[0;31m    b++ # This line won't run\u001b[0m\n\u001b[0m        ^\u001b[0m\n\u001b[0;31mSyntaxError\u001b[0m\u001b[0;31m:\u001b[0m invalid syntax\n"
     ]
    }
   ],
   "source": [
    "b++ # This line won't run"
   ]
  },
  {
   "cell_type": "code",
   "execution_count": 12,
   "metadata": {
    "colab": {
     "base_uri": "https://localhost:8080/",
     "height": 33
    },
    "id": "XsvbvEvX3H5W",
    "outputId": "6b9a727c-44a7-47c4-bc6f-200ace95aa0f"
   },
   "outputs": [
    {
     "name": "stdout",
     "output_type": "stream",
     "text": [
      "250000\n"
     ]
    }
   ],
   "source": [
    "a = 500\n",
    "b = a % 3\n",
    "c = a ** b\n",
    "print(c)"
   ]
  },
  {
   "cell_type": "code",
   "execution_count": 13,
   "metadata": {
    "colab": {
     "base_uri": "https://localhost:8080/",
     "height": 33
    },
    "id": "HWXvaeqv9K5J",
    "outputId": "d61b1b20-500b-40d5-d524-bb681332199e"
   },
   "outputs": [
    {
     "name": "stdout",
     "output_type": "stream",
     "text": [
      "2.23606797749979\n"
     ]
    }
   ],
   "source": [
    "import math\n",
    "print(math.sqrt(5))"
   ]
  },
  {
   "cell_type": "markdown",
   "metadata": {
    "id": "8Js7QmNeCGPm"
   },
   "source": [
    "## List"
   ]
  },
  {
   "cell_type": "code",
   "execution_count": 14,
   "metadata": {
    "id": "MzWtW1N6CHM1"
   },
   "outputs": [
    {
     "name": "stdout",
     "output_type": "stream",
     "text": [
      "[1, 2, 3, 4, 5]\n",
      "[1, 'hello world', 3.0, {'prof': 'Dr. Shafiq Joty', 'Course': 'MH6812'}]\n",
      "[1, 2, 3, 4, 5, 100]\n"
     ]
    }
   ],
   "source": [
    "a = [1, 2, 3, 4, 5]\n",
    "b = [1, \"hello world\", 3.0, {\"prof\":\"Dr. Shafiq Joty\", \"Course\" : \"MH6812\" }]\n",
    "print(a)\n",
    "print(b)\n",
    "\n",
    "a.append(100)\n",
    "print(a)\n"
   ]
  },
  {
   "cell_type": "markdown",
   "metadata": {
    "id": "_ByvnIPmCXaI"
   },
   "source": [
    "Note that, in python list works as a call by reference. "
   ]
  },
  {
   "cell_type": "code",
   "execution_count": 15,
   "metadata": {
    "id": "ZtAM83zECPNK"
   },
   "outputs": [
    {
     "name": "stdout",
     "output_type": "stream",
     "text": [
      "[0, 1, 2, 3, 100, 5, 6, 7]\n",
      "[0, 1, 2, 3, 100, 5, 6, 7]\n",
      "8\n",
      "8\n"
     ]
    }
   ],
   "source": [
    "a = [0,1,2,3,4,5,6,7]\n",
    "b = a\n",
    "b[4] = 100\n",
    "print(a)\n",
    "print(b)\n",
    "print(len(a))\n",
    "print(len(b))"
   ]
  },
  {
   "cell_type": "code",
   "execution_count": 16,
   "metadata": {
    "id": "GqCbD331X9eo"
   },
   "outputs": [
    {
     "name": "stdout",
     "output_type": "stream",
     "text": [
      "[0, 1, 2, 3, 4, 5, 6, 7]\n",
      "[0, 1, 2, 3, 100, 5, 6, 7]\n"
     ]
    }
   ],
   "source": [
    "import copy\n",
    "a = [0,1,2,3,4,5,6,7]\n",
    "b = copy.deepcopy(a)\n",
    "b[4] = 100\n",
    "print(a)\n",
    "print(b)"
   ]
  },
  {
   "cell_type": "markdown",
   "metadata": {
    "id": "G3Cyjnwv8_ZT"
   },
   "source": [
    "## String"
   ]
  },
  {
   "cell_type": "code",
   "execution_count": 17,
   "metadata": {
    "id": "fKKN9Pit3H8E"
   },
   "outputs": [
    {
     "name": "stdout",
     "output_type": "stream",
     "text": [
      "a = 5, b = 10\n"
     ]
    }
   ],
   "source": [
    "a = 5\n",
    "b = 10\n",
    "s = 'The quick brown for runs over the lazy dog'\n",
    "f = 'a = {}, b = {}'.format(a, b) #string formating\n",
    "print(f)"
   ]
  },
  {
   "cell_type": "markdown",
   "metadata": {
    "id": "fH_knxMeA132"
   },
   "source": [
    "Note that sting is not mutable. You can't do random access to the position of the string. you have to call library function for that."
   ]
  },
  {
   "cell_type": "code",
   "execution_count": 18,
   "metadata": {
    "id": "XuWnE4CRBRP-"
   },
   "outputs": [
    {
     "ename": "TypeError",
     "evalue": "'str' object does not support item assignment",
     "output_type": "error",
     "traceback": [
      "\u001b[0;31m---------------------------------------------------------------------------\u001b[0m",
      "\u001b[0;31mTypeError\u001b[0m                                 Traceback (most recent call last)",
      "Cell \u001b[0;32mIn[18], line 2\u001b[0m\n\u001b[1;32m      1\u001b[0m a \u001b[38;5;241m=\u001b[39m \u001b[38;5;124m'\u001b[39m\u001b[38;5;124mThe quick brown for runs over the lazy dog\u001b[39m\u001b[38;5;124m'\u001b[39m\n\u001b[0;32m----> 2\u001b[0m a[\u001b[38;5;241m0\u001b[39m] \u001b[38;5;241m=\u001b[39m \u001b[38;5;124m'\u001b[39m\u001b[38;5;124mx\u001b[39m\u001b[38;5;124m'\u001b[39m\n",
      "\u001b[0;31mTypeError\u001b[0m: 'str' object does not support item assignment"
     ]
    }
   ],
   "source": [
    "a = 'The quick brown for runs over the lazy dog'\n",
    "a[0] = 'x' # This line won't run"
   ]
  },
  {
   "cell_type": "code",
   "execution_count": 19,
   "metadata": {
    "id": "lIOWKQaHBgqh"
   },
   "outputs": [
    {
     "name": "stdout",
     "output_type": "stream",
     "text": [
      "['T', 'h', 'e', ' ', 'q', 'u', 'i', 'c', 'k', ' ', 'b', 'r', 'o', 'w', 'n', ' ', 'f', 'o', 'r', ' ', 'r', 'u', 'n', 's', ' ', 'o', 'v', 'e', 'r', ' ', 't', 'h', 'e', ' ', 'l', 'a', 'z', 'y', ' ', 'd', 'o', 'g']\n",
      "xhe quick brown for runs over the lazy dog\n"
     ]
    }
   ],
   "source": [
    "a = 'The quick brown for runs over the lazy dog'\n",
    "a = list(a)\n",
    "print(a)\n",
    "a[0] = 'x'\n",
    "a = \"\".join(a)\n",
    "print(a)"
   ]
  },
  {
   "cell_type": "markdown",
   "metadata": {
    "id": "z3_aiQHI_UbL"
   },
   "source": [
    "## Dictionary\n",
    "\n",
    "- Dictionaries are set of `key` and `value`. \n",
    "- Keys are unique. \n",
    "- regular dictionary doesn't ensure the order information of data. \n",
    "- Ordered dictionary contains the order information of data but you have to import it from `collections` library.\n"
   ]
  },
  {
   "cell_type": "code",
   "execution_count": 20,
   "metadata": {
    "colab": {
     "base_uri": "https://localhost:8080/",
     "height": 35
    },
    "id": "0vR1pYH4AB6v",
    "outputId": "522f4694-56e6-4f59-ffb4-a327c37d7523"
   },
   "outputs": [
    {
     "name": "stdout",
     "output_type": "stream",
     "text": [
      "{0: 'Mr. a', 1: 'Mr. b', 2: 'Mr. c'}\n"
     ]
    }
   ],
   "source": [
    "a = { 0 : \"Mr. a\", 1 : \"Mr. b\", 2 : \"Mr. c\" }\n",
    "print(a)"
   ]
  },
  {
   "cell_type": "code",
   "execution_count": 21,
   "metadata": {
    "id": "Trl9reiHAXyr"
   },
   "outputs": [
    {
     "name": "stdout",
     "output_type": "stream",
     "text": [
      "{0: 'Mr. c', 2: 'Mr. b', 1: 'Mr. c'}\n"
     ]
    }
   ],
   "source": [
    "a = { 0 : \"Mr. a\", 0 : \"Mr. b\", 2 : \"Mr. b\", 1 : \"Mr. c\", 0 : \"Mr. c\" }\n",
    "print(a)"
   ]
  },
  {
   "cell_type": "code",
   "execution_count": 22,
   "metadata": {
    "id": "NdgsL5iwArgW"
   },
   "outputs": [
    {
     "name": "stdout",
     "output_type": "stream",
     "text": [
      "OrderedDict([('b', 2), ('a', 1)])\n",
      "OrderedDict([(0, 'Mr. a'), (1, 'Mr. b'), (2, 'Mr. b')])\n",
      "OrderedDict([(0, 'Mr. c'), (2, 'Mr. b'), (1, 'Mr. c')])\n"
     ]
    }
   ],
   "source": [
    "from collections import OrderedDict\n",
    "b = OrderedDict([('b', 2), ('a', 1)])\n",
    "print(b)\n",
    "\n",
    "b = OrderedDict({ 0 : \"Mr. a\", 1 : \"Mr. b\", 2 : \"Mr. b\" })\n",
    "print(b)\n",
    "\n",
    "b = OrderedDict({ 0 : \"Mr. a\", 0 : \"Mr. b\", 2 : \"Mr. b\", 1 : \"Mr. c\", 0 : \"Mr. c\" })\n",
    "print(b)\n"
   ]
  },
  {
   "cell_type": "markdown",
   "metadata": {
    "id": "UhRdt-LI-sKc"
   },
   "source": [
    "## Slicing\n",
    "\n",
    "A very inportant concept. How to access data in python.\n",
    "\n",
    "\n",
    "\n",
    "```\n",
    " +---+---+---+---+---+---+\n",
    " | P | y | t | h | o | n |\n",
    " +---+---+---+---+---+---+\n",
    "   0   1   2   3   4   5   \n",
    "  -6  -5  -4  -3  -2  -1\n",
    "```\n",
    "\n"
   ]
  },
  {
   "cell_type": "code",
   "execution_count": 23,
   "metadata": {
    "colab": {
     "base_uri": "https://localhost:8080/",
     "height": 105
    },
    "id": "22CoIsKX3IGM",
    "outputId": "866d9a3b-0c68-4a13-bb3e-66dd4e6ac0cb"
   },
   "outputs": [
    {
     "name": "stdout",
     "output_type": "stream",
     "text": [
      "0 p\n",
      "1 y\n",
      "2 t\n",
      "-1 n\n",
      "-2 o\n"
     ]
    }
   ],
   "source": [
    "letters = ['p', 'y', 't', 'h', 'o', 'n']\n",
    "print(\"0\", letters[0])\n",
    "print(\"1\", letters[1])\n",
    "print(\"2\", letters[2])\n",
    "print(\"-1\", letters[-1])\n",
    "print(\"-2\", letters[-2])"
   ]
  },
  {
   "cell_type": "code",
   "execution_count": 24,
   "metadata": {
    "colab": {
     "base_uri": "https://localhost:8080/",
     "height": 227
    },
    "id": "nAx_XPV43II5",
    "outputId": "7fee34c8-1c0d-4b1b-80c1-4066789f2c9a"
   },
   "outputs": [
    {
     "name": "stdout",
     "output_type": "stream",
     "text": [
      ": ['p', 'y', 't', 'h', 'o', 'n']\n",
      "0: ['p', 'y', 't', 'h', 'o', 'n']\n",
      ":-1 ['p', 'y', 't', 'h', 'o']\n",
      "0:5 ['p', 'y', 't', 'h', 'o']\n",
      ":2 ['p', 'y']\n",
      "3:5 ['h', 'o']\n",
      "0:-1 ['p', 'y', 't', 'h', 'o']\n",
      "0:-2 ['p', 'y', 't', 'h']\n",
      "-1:0 []\n",
      "-5:-2 ['y', 't', 'h']\n",
      "['n', 'h', 'y']\n",
      "['n', 'o', 'h', 't', 'y', 'p']\n"
     ]
    }
   ],
   "source": [
    "print(\":\", letters[:])\n",
    "print(\"0:\", letters[0:])\n",
    "print(\":-1\", letters[:-1])\n",
    "print(\"0:5\", letters[0:5])\n",
    "print(\":2\", letters[:2])\n",
    "print(\"3:5\", letters[3:5])\n",
    "print(\"0:-1\", letters[0:-1])\n",
    "print(\"0:-2\", letters[0:-2])\n",
    "print(\"-1:0\", letters[-1:0])\n",
    "print(\"-5:-2\", letters[-5:-2])\n",
    "print(letters[-1:0:-2])\n",
    "print(letters[-1:-7:-1])"
   ]
  },
  {
   "cell_type": "markdown",
   "metadata": {
    "id": "FIzSmW0-Lgoz"
   },
   "source": [
    "# 3. Conditional\n",
    "\n",
    "Note that in python, indentation is **must**. Without proper indentation code will not execute.\n",
    "```\n",
    "if condition:\n",
    "  statement\n",
    "elif condition:\n",
    "  statement\n",
    "...\n",
    "...\n",
    "else:\n",
    "  statement\n",
    "```\n",
    "\n",
    "\n",
    "\n"
   ]
  },
  {
   "cell_type": "code",
   "execution_count": 25,
   "metadata": {
    "id": "ZjdJZ3PSNtv4"
   },
   "outputs": [
    {
     "name": "stdout",
     "output_type": "stream",
     "text": [
      "True\n"
     ]
    }
   ],
   "source": [
    "year = 2000\n",
    "if year % 400 == 0 :\n",
    "  print(True)\n",
    "elif year % 4 == 0 and year % 100 != 0:\n",
    "  print(True)\n",
    "else:\n",
    "  print(False)"
   ]
  },
  {
   "cell_type": "code",
   "execution_count": 26,
   "metadata": {
    "colab": {
     "base_uri": "https://localhost:8080/",
     "height": 52
    },
    "id": "XUbO5YX3LrPj",
    "outputId": "56c13aa0-dff7-4181-c600-a2a2e07eb32a"
   },
   "outputs": [
    {
     "name": "stdout",
     "output_type": "stream",
     "text": [
      "Score :50\n",
      "Fail\n"
     ]
    }
   ],
   "source": [
    "score = int(input(\"Score :\"))\n",
    "if score >= 80:\n",
    "  print(\"A\")\n",
    "elif score >= 75:\n",
    "  print(\"A-\")\n",
    "elif score >= 70:\n",
    "  print(\"B\")\n",
    "else:\n",
    "  print(\"Fail\")"
   ]
  },
  {
   "cell_type": "markdown",
   "metadata": {
    "id": "xPosaAhJtdZS"
   },
   "source": [
    "# 4. Function\n",
    "\n",
    "Function definition is given below. Note that argument with default values will always be followed by regular argument.\n",
    "\n",
    "```\n",
    "def function_name( arg1, args2, args2, .. argsn):\n",
    "  ...\n",
    "  ...\n",
    "  statememt\n",
    "  ...\n",
    "  ...\n",
    "  return ret_obj\n",
    "```\n",
    "\n"
   ]
  },
  {
   "cell_type": "code",
   "execution_count": 27,
   "metadata": {
    "id": "xLs_wk0pPbDE"
   },
   "outputs": [
    {
     "name": "stdout",
     "output_type": "stream",
     "text": [
      "True\n",
      "False\n"
     ]
    }
   ],
   "source": [
    "def isLeapYear(year):\n",
    "  if year % 400 == 0 :\n",
    "    return True\n",
    "  if year % 4 == 0 and year % 100 != 0:\n",
    "    return True\n",
    "  return False\n",
    "print(isLeapYear(2000))\n",
    "print(isLeapYear(2019))"
   ]
  },
  {
   "cell_type": "code",
   "execution_count": 28,
   "metadata": {
    "id": "70SkB1U7LuYb"
   },
   "outputs": [],
   "source": [
    "def grader(score):\n",
    "  if score >= 80:\n",
    "    return \"A\"\n",
    "  elif score >= 75:\n",
    "    return \"A-\"\n",
    "  elif score >= 70:\n",
    "    return \"B\"\n",
    "  else:\n",
    "    return \"Fail\""
   ]
  },
  {
   "cell_type": "code",
   "execution_count": 29,
   "metadata": {
    "id": "yCboTT8ANiNi"
   },
   "outputs": [
    {
     "data": {
      "text/plain": [
       "'A'"
      ]
     },
     "execution_count": 29,
     "metadata": {},
     "output_type": "execute_result"
    }
   ],
   "source": [
    "grader(100)"
   ]
  },
  {
   "cell_type": "code",
   "execution_count": 30,
   "metadata": {
    "id": "ZLYGLX2dtcgA"
   },
   "outputs": [],
   "source": [
    "def fibonacci(n):\n",
    "  a, b = 0, 1\n",
    "  ret = []\n",
    "  while a < n:\n",
    "    ret.append(a)\n",
    "    a, b = b, a+b\n",
    "  return ret"
   ]
  },
  {
   "cell_type": "code",
   "execution_count": 31,
   "metadata": {
    "id": "Ec9xvC-vwXJO"
   },
   "outputs": [
    {
     "data": {
      "text/plain": [
       "[0, 1, 1, 2, 3]"
      ]
     },
     "execution_count": 31,
     "metadata": {},
     "output_type": "execute_result"
    }
   ],
   "source": [
    "fibonacci(5)"
   ]
  },
  {
   "cell_type": "code",
   "execution_count": 32,
   "metadata": {
    "id": "wxdR6_jcwimG"
   },
   "outputs": [],
   "source": [
    "def fibonacci(n=10000):\n",
    "  a, b = 0, 1\n",
    "  ret = []\n",
    "  while a < n:\n",
    "    ret.append(a)\n",
    "    a, b = b, a+b\n",
    "  return ret"
   ]
  },
  {
   "cell_type": "code",
   "execution_count": 34,
   "metadata": {
    "id": "FfOtK3uCwluu"
   },
   "outputs": [
    {
     "data": {
      "text/plain": [
       "[0, 1, 1, 2, 3, 5, 8]"
      ]
     },
     "execution_count": 34,
     "metadata": {},
     "output_type": "execute_result"
    }
   ],
   "source": [
    "fibonacci(10)"
   ]
  },
  {
   "cell_type": "markdown",
   "metadata": {
    "id": "_rpo2zmOORxj"
   },
   "source": [
    "# 5. While loop\n",
    "\n",
    "```\n",
    "while condition:\n",
    "  statement\n",
    "  statement\n",
    "  statement\n",
    "  ...\n",
    "  ...\n",
    "  ...\n",
    "  \n",
    "```\n"
   ]
  },
  {
   "cell_type": "code",
   "execution_count": 36,
   "metadata": {
    "id": "jcViHk_NORNP"
   },
   "outputs": [
    {
     "name": "stdout",
     "output_type": "stream",
     "text": [
      "10 100\n",
      "12 144\n",
      "14 196\n",
      "16 256\n",
      "18 324\n",
      "20 400\n",
      "An odd number\n",
      "22 484\n",
      "24 576\n",
      "26 676\n",
      "An odd number\n",
      "28 784\n"
     ]
    }
   ],
   "source": [
    "idx = 10\n",
    "while idx < 100:\n",
    "  if idx % 29 == 0:\n",
    "    break\n",
    "  if idx % 2 == 0 :\n",
    "    print(idx, idx**2)\n",
    "  elif idx % 5 == 0 :\n",
    "    idx += 1   ### What happend if we comment this line\n",
    "    continue\n",
    "  elif idx % 3 == 0 :\n",
    "    print(\"An odd number\")\n",
    "  idx += 1"
   ]
  },
  {
   "cell_type": "code",
   "execution_count": 37,
   "metadata": {
    "id": "tPpSK1WFIz2Z"
   },
   "outputs": [
    {
     "name": "stdout",
     "output_type": "stream",
     "text": [
      "1  \n",
      "1  1  \n",
      "1  2  1  \n",
      "1  3  3  1  \n",
      "1  4  6  4  1  \n",
      "1  5  10  10  5  1  \n",
      "1  6  15  20  15  6  1  \n",
      "1  7  21  35  35  21  7  1  \n",
      "1  8  28  56  70  56  28  8  1  \n",
      "1  9  36  84  126  126  84  36  9  1  \n"
     ]
    }
   ],
   "source": [
    "row = 0\n",
    "base = 10\n",
    "while row < base:\n",
    "  col = 0\n",
    "  while col <= row:\n",
    "    print(nCr(row, col), \" \", end=\"\")\n",
    "    col += 1\n",
    "  print()\n",
    "  row += 1"
   ]
  },
  {
   "cell_type": "markdown",
   "metadata": {
    "id": "cc4DBisrKSOf"
   },
   "source": [
    "let's implement the above cell as a function"
   ]
  },
  {
   "cell_type": "code",
   "execution_count": 38,
   "metadata": {
    "id": "y1dUPCACKXum"
   },
   "outputs": [],
   "source": [
    "def pascal_triangle(num_of_row=5):\n",
    "  row = 0\n",
    "  base = num_of_row\n",
    "  while row < base:\n",
    "    col = 0\n",
    "    while col <= row:\n",
    "      print(nCr(row, col), \" \", end=\"\")\n",
    "      col += 1\n",
    "    print()\n",
    "    row += 1"
   ]
  },
  {
   "cell_type": "code",
   "execution_count": 39,
   "metadata": {
    "id": "j3oiu-2hKqTY"
   },
   "outputs": [
    {
     "name": "stdout",
     "output_type": "stream",
     "text": [
      "1  \n",
      "1  1  \n",
      "1  2  1  \n",
      "1  3  3  1  \n",
      "1  4  6  4  1  \n",
      "1  5  10  10  5  1  \n",
      "1  6  15  20  15  6  1  \n",
      "1  7  21  35  35  21  7  1  \n",
      "1  8  28  56  70  56  28  8  1  \n",
      "1  9  36  84  126  126  84  36  9  1  \n"
     ]
    }
   ],
   "source": [
    "pascal_triangle(num_of_row=10)"
   ]
  },
  {
   "cell_type": "markdown",
   "metadata": {
    "id": "dfisL7hZLBXK"
   },
   "source": [
    "**Note** : We can make this function **really fast** with Dynamic Programmming/memoization technique. But that's not in the scope of this tutorial.\n",
    "\n",
    "But instead of printing the values let's save then in a list."
   ]
  },
  {
   "cell_type": "code",
   "execution_count": 40,
   "metadata": {
    "id": "gcVEDahQReFp"
   },
   "outputs": [],
   "source": [
    "def pascal_triangle(num_of_row=5):\n",
    "  row = 0\n",
    "  base = num_of_row\n",
    "  ret = []\n",
    "  while row < base:\n",
    "    col = 0\n",
    "    ret_row = []\n",
    "    while col <= row:\n",
    "      nCr_val = nCr(row, col)\n",
    "      ret_row.append(nCr_val)\n",
    "      col += 1\n",
    "    row += 1\n",
    "    ret.append(ret_row)\n",
    "  return ret"
   ]
  },
  {
   "cell_type": "code",
   "execution_count": 41,
   "metadata": {
    "id": "E8-4Y1R9RxFF"
   },
   "outputs": [],
   "source": [
    "arr = pascal_triangle(num_of_row=5)"
   ]
  },
  {
   "cell_type": "code",
   "execution_count": 42,
   "metadata": {
    "id": "v9IDZFbrSg-M"
   },
   "outputs": [
    {
     "name": "stdout",
     "output_type": "stream",
     "text": [
      "[1]\n",
      "[1, 1]\n",
      "[1, 2, 1]\n",
      "[1, 3, 3, 1]\n",
      "[1, 4, 6, 4, 1]\n"
     ]
    }
   ],
   "source": [
    "idx = 0\n",
    "tot_row = len(arr)\n",
    "while idx < tot_row:\n",
    "  print(arr[idx])\n",
    "  idx += 1"
   ]
  },
  {
   "cell_type": "markdown",
   "metadata": {
    "id": "YnlBwnd4SLC1"
   },
   "source": [
    "Let's convert the above cell into a new function called, `print2Dmat()`."
   ]
  },
  {
   "cell_type": "code",
   "execution_count": 43,
   "metadata": {
    "id": "eCLZAfWiSrxU"
   },
   "outputs": [
    {
     "name": "stdout",
     "output_type": "stream",
     "text": [
      "[1]\n",
      "[1, 1]\n",
      "[1, 2, 1]\n",
      "[1, 3, 3, 1]\n",
      "[1, 4, 6, 4, 1]\n",
      "[1, 5, 10, 10, 5, 1]\n",
      "[1, 6, 15, 20, 15, 6, 1]\n",
      "[1, 7, 21, 35, 35, 21, 7, 1]\n",
      "[1, 8, 28, 56, 70, 56, 28, 8, 1]\n",
      "[1, 9, 36, 84, 126, 126, 84, 36, 9, 1]\n",
      "[1, 10, 45, 120, 210, 252, 210, 120, 45, 10, 1]\n",
      "[1, 11, 55, 165, 330, 462, 462, 330, 165, 55, 11, 1]\n",
      "[1, 12, 66, 220, 495, 792, 924, 792, 495, 220, 66, 12, 1]\n",
      "[1, 13, 78, 286, 715, 1287, 1716, 1716, 1287, 715, 286, 78, 13, 1]\n",
      "[1, 14, 91, 364, 1001, 2002, 3003, 3432, 3003, 2002, 1001, 364, 91, 14, 1]\n"
     ]
    }
   ],
   "source": [
    "def print2Dmat(arr):\n",
    "  idx = 0\n",
    "  tot_row = len(arr)\n",
    "  while idx < tot_row:\n",
    "    print(arr[idx])\n",
    "    idx += 1\n",
    "\n",
    "print2Dmat(pascal_triangle(15))"
   ]
  },
  {
   "cell_type": "code",
   "execution_count": 44,
   "metadata": {
    "colab": {
     "base_uri": "https://localhost:8080/",
     "height": 50
    },
    "id": "J4V-yRedUB2w",
    "outputId": "12f21bf8-1b2b-4774-b465-6b5c228957e3"
   },
   "outputs": [
    {
     "name": "stdout",
     "output_type": "stream",
     "text": [
      "Agree? : y\n"
     ]
    },
    {
     "data": {
      "text/plain": [
       "True"
      ]
     },
     "execution_count": 44,
     "metadata": {},
     "output_type": "execute_result"
    }
   ],
   "source": [
    "def ask_ok(prompt, retries=4, reminder='Please try again!'):\n",
    "  \"\"\"The basic function to ask for yes or no question.\n",
    "    return type: True or False\n",
    "  \"\"\"\n",
    "  while True:\n",
    "      ok = input(prompt)\n",
    "      if ok in ('y', 'ye', 'yes'):\n",
    "          return True\n",
    "      if ok in ('n', 'no', 'nop', 'nope'):\n",
    "          return False\n",
    "      retries = retries - 1\n",
    "      if retries < 0:\n",
    "          raise ValueError('invalid user response')  # We will discuss this in a bit\n",
    "      print(reminder)\n",
    "\n",
    "ask_ok(\"Agree? : \", retries=4, reminder='Please try again!')"
   ]
  },
  {
   "cell_type": "code",
   "execution_count": 45,
   "metadata": {
    "colab": {
     "base_uri": "https://localhost:8080/",
     "height": 66
    },
    "id": "ZvQ_7e3mY54S",
    "outputId": "f4ec0d15-1dfb-4e6a-a8e2-8adba529d367"
   },
   "outputs": [
    {
     "name": "stdout",
     "output_type": "stream",
     "text": [
      "The basic function to ask for yes or no question.\n",
      "    return type: True or False\n",
      "  \n"
     ]
    }
   ],
   "source": [
    "print(ask_ok.__doc__)\n"
   ]
  },
  {
   "cell_type": "markdown",
   "metadata": {
    "id": "UB4b67ztY1Xf"
   },
   "source": [
    "# 6. for loop\n",
    "\n",
    "```\n",
    "for variable in iterable_object:\n",
    "  statement\n",
    "```"
   ]
  },
  {
   "cell_type": "code",
   "execution_count": 46,
   "metadata": {
    "colab": {
     "base_uri": "https://localhost:8080/",
     "height": 33
    },
    "id": "hmMRuCAjZ397",
    "outputId": "d1ecbd34-89f4-4697-db48-4e6b1e65b9af"
   },
   "outputs": [
    {
     "data": {
      "text/plain": [
       "range(100, 120, 3)"
      ]
     },
     "execution_count": 46,
     "metadata": {},
     "output_type": "execute_result"
    }
   ],
   "source": [
    "range(10)  # returns [0-10)\n",
    "range(100, 120)  # returns [100-200)\n",
    "range(100, 120, 3) # returns every 3 member of [100-200)"
   ]
  },
  {
   "cell_type": "code",
   "execution_count": 47,
   "metadata": {
    "colab": {
     "base_uri": "https://localhost:8080/",
     "height": 66
    },
    "id": "VG8GPpO4Y0yc",
    "outputId": "d79f5d58-b51e-433b-cec4-a91e4ab5e639"
   },
   "outputs": [
    {
     "name": "stdout",
     "output_type": "stream",
     "text": [
      "0  1  2  3  4  5  6  7  8  9  \n",
      "100  101  102  103  104  105  106  107  108  109  110  111  112  113  114  115  116  117  118  119  \n",
      "100  103  106  109  112  115  118  "
     ]
    }
   ],
   "source": [
    "for i in range(10):\n",
    "  print(i, \" \", end=\"\")\n",
    "print()\n",
    "for i in range(100, 120):\n",
    "  print(i, \" \", end=\"\")\n",
    "print()\n",
    "for i in range(100, 120, 3):\n",
    "  print(i, \" \", end=\"\")"
   ]
  },
  {
   "cell_type": "markdown",
   "metadata": {
    "id": "sX4IlC6bagIu"
   },
   "source": [
    "In general, every data structure/container in python should have a traversing procedure written inside of it's internal class."
   ]
  },
  {
   "cell_type": "markdown",
   "metadata": {
    "id": "zov8BwuFa0Re"
   },
   "source": [
    "## Iteration through list"
   ]
  },
  {
   "cell_type": "code",
   "execution_count": 48,
   "metadata": {
    "colab": {
     "base_uri": "https://localhost:8080/",
     "height": 100
    },
    "id": "zVFTOsRUVeZ9",
    "outputId": "be659c20-97e6-4eb0-9838-720e5060b703"
   },
   "outputs": [
    {
     "name": "stdout",
     "output_type": "stream",
     "text": [
      "1\n",
      "2\n",
      "3\n",
      "4\n",
      "6\n"
     ]
    }
   ],
   "source": [
    "for i in [1, 2, 3, 4, 6]:\n",
    "  print(i)"
   ]
  },
  {
   "cell_type": "code",
   "execution_count": 49,
   "metadata": {
    "id": "FhKbQi9Sa53Z"
   },
   "outputs": [],
   "source": [
    "## Iteration through dictionary"
   ]
  },
  {
   "cell_type": "code",
   "execution_count": 50,
   "metadata": {
    "colab": {
     "base_uri": "https://localhost:8080/",
     "height": 566
    },
    "id": "YAczrjUmaxQa",
    "outputId": "daeaa0a7-e8c9-4953-ac34-0acc06c9674e"
   },
   "outputs": [
    {
     "name": "stdout",
     "output_type": "stream",
     "text": [
      "Keys\n",
      "0\n",
      "1\n",
      "2\n",
      "3\n",
      "4\n",
      "5\n",
      "6\n",
      "7\n",
      "8\n",
      "9\n",
      "values\n",
      "0\n",
      "1\n",
      "8\n",
      "27\n",
      "64\n",
      "125\n",
      "216\n",
      "343\n",
      "512\n",
      "729\n",
      "key value together\n",
      "0 0\n",
      "1 1\n",
      "2 8\n",
      "3 27\n",
      "4 64\n",
      "5 125\n",
      "6 216\n",
      "7 343\n",
      "8 512\n",
      "9 729\n"
     ]
    }
   ],
   "source": [
    "my_dictionary = {}\n",
    "for i in range(10):\n",
    "  my_dictionary[i] = i*i*i\n",
    "print(\"Keys\")\n",
    "for i in my_dictionary.keys():\n",
    "  print(i)\n",
    "print(\"values\")\n",
    "for i in my_dictionary.values():\n",
    "  print(i)\n",
    "print(\"key value together\")\n",
    "for k, v in my_dictionary.items():\n",
    "  print(k, v)"
   ]
  },
  {
   "cell_type": "code",
   "execution_count": 51,
   "metadata": {
    "colab": {
     "base_uri": "https://localhost:8080/",
     "height": 100
    },
    "id": "Ax9nS7erblKE",
    "outputId": "d927380c-c14c-4f60-f416-22a28b6a627a"
   },
   "outputs": [
    {
     "name": "stdout",
     "output_type": "stream",
     "text": [
      "1 100\n",
      "2 99\n",
      "3 98\n",
      "4 96\n",
      "5 96\n"
     ]
    }
   ],
   "source": [
    "a = [1, 2, 3, 4, 5]\n",
    "b = [100, 99, 98, 96, 96, 95]\n",
    "for i, j in zip(a,b):\n",
    "  print(i, j)"
   ]
  },
  {
   "cell_type": "markdown",
   "metadata": {
    "id": "T9WAvYYxu91G"
   },
   "source": [
    "# 7. Random number\n",
    "\n",
    "Deep leaning algorithms are widely stocastic and [Embarrassingly parallel](https://en.wikipedia.org/wiki/Embarrassingly_parallel). Use of random number/distribution is a big part of it. \n",
    "\n",
    "An experiment is robust in deep learning when, \n",
    "[standard deviation](https://en.wikipedia.org/wiki/Standard_deviation) is small for experiments with,\n",
    "1. Different seed\n",
    "2. Same seed"
   ]
  },
  {
   "cell_type": "code",
   "execution_count": 52,
   "metadata": {
    "colab": {
     "base_uri": "https://localhost:8080/",
     "height": 107
    },
    "id": "JnNzgfTovBFl",
    "outputId": "af790acd-6ada-4c2e-9f12-8d557f444a26"
   },
   "outputs": [
    {
     "name": "stdout",
     "output_type": "stream",
     "text": [
      "0.9664535356921388\n",
      "4.407325991753527\n",
      "2.2970405483761804\n",
      "174\n",
      "[3, 4, 2, 5, 6, 1]\n"
     ]
    }
   ],
   "source": [
    "import random\n",
    "random.seed(1234)  # ensures code reproduciblity.\n",
    "a = random.random() # Return the next random floating point number in the range [0.0, 1.0).\n",
    "print(a)\n",
    "a = random.uniform(0, 10)\n",
    "print(a)  # Return a random floating point number N such that a <= N <= b for a <= b and b <= N <= a for b < a.\n",
    "a = random.gauss(.1, 1)\n",
    "print(a)\n",
    "a = random.randint(100, 200)\n",
    "print(a)\n",
    "a = [1,2,3,4,5,6]\n",
    "random.shuffle(a)\n",
    "print(a)"
   ]
  },
  {
   "cell_type": "markdown",
   "metadata": {
    "id": "vffAfz8gvMPN"
   },
   "source": [
    "# 8. Generator Function\n",
    "\n",
    "Usually we use generator when we need to explore data one by one. In this case rather than processing whole data together, we can process one by one.\n",
    "\n",
    "Generator let us implement this feature. It doesn't process the whole code segment together. It process per `yield` basis.\n",
    "\n"
   ]
  },
  {
   "cell_type": "code",
   "execution_count": 53,
   "metadata": {
    "colab": {
     "base_uri": "https://localhost:8080/",
     "height": 53
    },
    "id": "RX8nurpTvzod",
    "outputId": "53a3d45f-f93c-4c10-828e-ca2617bb61e6"
   },
   "outputs": [
    {
     "name": "stdout",
     "output_type": "stream",
     "text": [
      "[100, 122, 15, 19, 100, 500, 900, 100, 100, 122, 15, 66, 100, 500, 88, 100, 100, 122, 20, 19, 100, 500, 77, 100, 10]\n",
      "25\n"
     ]
    }
   ],
   "source": [
    "data = [100, 122, 15, 19, 100, 500, 900, 100, 100, 122, 15, 66, 100, 500, 88, 100, 100, 122, 20, 19, 100, 500, 77, 100, 10]\n",
    "print(data)\n",
    "print(len(data))"
   ]
  },
  {
   "cell_type": "code",
   "execution_count": 54,
   "metadata": {
    "id": "TSX3Rw_W1T9B"
   },
   "outputs": [],
   "source": [
    "# need to get 3 random positioned numbers at a time\n",
    "def data_iterator(data, is_stop = True, is_shuffle = True, batch_size=3):\n",
    "  n = len(data)\n",
    "  idx = 0\n",
    "  index_list = []\n",
    "  while idx < n:\n",
    "    index_list.append(idx)\n",
    "    idx += 1\n",
    "  if is_shuffle:\n",
    "    random.shuffle(index_list)\n",
    "  ret = []\n",
    "  i = 0\n",
    "  while True:\n",
    "    # print(i)\n",
    "    if i == n:\n",
    "      yield ret\n",
    "      if is_stop:\n",
    "        break\n",
    "      i = 0\n",
    "      ret = []\n",
    "      random.shuffle(index_list)\n",
    "    ret.append( data[ index_list[i]  ] )\n",
    "    if len(ret) == batch_size:\n",
    "      yield ret\n",
    "      ret = []\n",
    "    i = i + 1\n"
   ]
  },
  {
   "cell_type": "code",
   "execution_count": 55,
   "metadata": {
    "colab": {
     "base_uri": "https://localhost:8080/",
     "height": 89
    },
    "id": "QTi4C59WxT6h",
    "outputId": "88de9942-afc6-4f82-8ec8-290ba91462d0"
   },
   "outputs": [
    {
     "name": "stdout",
     "output_type": "stream",
     "text": [
      "[122, 900, 122]\n",
      "[500, 15, 100]\n",
      "[500, 100, 19]\n",
      "[100, 100, 77]\n"
     ]
    }
   ],
   "source": [
    "a = data_iterator(data, is_stop = True, is_shuffle = True, batch_size=3)\n",
    "print(a.__next__())\n",
    "print(a.__next__())\n",
    "print(a.__next__())\n",
    "print(a.__next__())"
   ]
  },
  {
   "cell_type": "markdown",
   "metadata": {
    "id": "SxjDZs1lI_cD"
   },
   "source": [
    "# 9. Scope, Class, Inheritance\n",
    "\n",
    "Classes provide a means of bundling data and functionality together. Creating a new class creates a new type of object, allowing new instances of that type to be made. Each class instance can have attributes attached to it for maintaining its state. Class instances can also have methods (defined by its class) for modifying its state.\n",
    "\n"
   ]
  },
  {
   "cell_type": "code",
   "execution_count": 56,
   "metadata": {
    "colab": {
     "base_uri": "https://localhost:8080/",
     "height": 83
    },
    "id": "g0r49AB1G48J",
    "outputId": "3d0d47a7-57e7-4d80-deac-094541682673"
   },
   "outputs": [
    {
     "name": "stdout",
     "output_type": "stream",
     "text": [
      "After local assignment: test spam\n",
      "After nonlocal assignment: nonlocal spam\n",
      "After global assignment: nonlocal spam\n",
      "In global scope: global spam\n"
     ]
    }
   ],
   "source": [
    "def scope_test():\n",
    "    def do_local():\n",
    "        spam = \"local spam\"\n",
    "\n",
    "    def do_nonlocal():\n",
    "        nonlocal spam\n",
    "        spam = \"nonlocal spam\"\n",
    "\n",
    "    def do_global():\n",
    "        global spam\n",
    "        spam = \"global spam\"\n",
    "\n",
    "    spam = \"test spam\"\n",
    "    do_local()\n",
    "    print(\"After local assignment:\", spam)\n",
    "    do_nonlocal()\n",
    "    print(\"After nonlocal assignment:\", spam)\n",
    "    do_global()\n",
    "    print(\"After global assignment:\", spam)\n",
    "\n",
    "scope_test()\n",
    "print(\"In global scope:\", spam)"
   ]
  },
  {
   "cell_type": "markdown",
   "metadata": {
    "id": "y43ZgrSRG-TM"
   },
   "source": [
    "## Class definition\n",
    "\n",
    "\n",
    "```\n",
    "class ClassName:\n",
    "    <statement-1>\n",
    "    .\n",
    "    .\n",
    "    .\n",
    "    <statement-N>\n",
    "```\n",
    "\n"
   ]
  },
  {
   "cell_type": "code",
   "execution_count": 57,
   "metadata": {
    "id": "WxmQyDes3ILX"
   },
   "outputs": [],
   "source": [
    "class MyClass:\n",
    "    \"\"\"A simple example class\"\"\"\n",
    "    i = 12345\n",
    "\n",
    "    def f(self):\n",
    "        return 'hello world'"
   ]
  },
  {
   "cell_type": "code",
   "execution_count": 58,
   "metadata": {
    "colab": {
     "base_uri": "https://localhost:8080/",
     "height": 33
    },
    "id": "ANp2iTymsvyu",
    "outputId": "3a83fc2e-f865-4a31-8f3f-2d64f5e8910a"
   },
   "outputs": [
    {
     "data": {
      "text/plain": [
       "'hello world'"
      ]
     },
     "execution_count": 58,
     "metadata": {},
     "output_type": "execute_result"
    }
   ],
   "source": [
    "x = MyClass()\n",
    "x.f()"
   ]
  },
  {
   "cell_type": "code",
   "execution_count": 59,
   "metadata": {
    "id": "3tovWLwkr73Q"
   },
   "outputs": [],
   "source": [
    "class Complex:\n",
    "  def __init__(self, realpart, imagpart):\n",
    "      self.r = realpart\n",
    "      self.i = imagpart"
   ]
  },
  {
   "cell_type": "code",
   "execution_count": 60,
   "metadata": {
    "colab": {
     "base_uri": "https://localhost:8080/",
     "height": 33
    },
    "id": "osv6mqqJIfk5",
    "outputId": "e14d5130-47c3-425b-82f2-a760a7afdfe0"
   },
   "outputs": [
    {
     "name": "stdout",
     "output_type": "stream",
     "text": [
      "3.0 -4.5\n"
     ]
    }
   ],
   "source": [
    "x = Complex(3.0, -4.5)\n",
    "print(x.r, x.i)"
   ]
  },
  {
   "cell_type": "markdown",
   "metadata": {
    "id": "7eLHqf4vIUUR"
   },
   "source": [
    "self represents the instance of the class. By using the “self” keyword we can access the attributes and methods of the class in python.\n",
    "\n",
    "**Self is a convention and not a real python keyword**"
   ]
  },
  {
   "cell_type": "code",
   "execution_count": 61,
   "metadata": {
    "colab": {
     "base_uri": "https://localhost:8080/",
     "height": 33
    },
    "id": "hqKyn29VH4zb",
    "outputId": "4dc6c14e-3c1e-4f68-c546-6d94e3b175d7"
   },
   "outputs": [
    {
     "name": "stdout",
     "output_type": "stream",
     "text": [
      "3.0 -4.5\n"
     ]
    }
   ],
   "source": [
    "class Complex:\n",
    "  def __init__(new_self, realpart, imagpart):\n",
    "      new_self.r = realpart\n",
    "      new_self.i = imagpart\n",
    "\n",
    "y = Complex(3.0, -4.5)\n",
    "print(y.r, y.i)"
   ]
  },
  {
   "cell_type": "markdown",
   "metadata": {
    "id": "sqGrjcTtJZ48"
   },
   "source": [
    "Note that here `__init__()` is the class constructor. The class is constructed by calling this method."
   ]
  },
  {
   "cell_type": "code",
   "execution_count": 62,
   "metadata": {
    "id": "CI19p2L7I06F"
   },
   "outputs": [],
   "source": [
    "class Bag:\n",
    "    def __init__(self):\n",
    "        self.data = []\n",
    "\n",
    "    def add(self, x):\n",
    "        self.data.append(x)\n",
    "\n",
    "    def addtwice(self, x):\n",
    "        self.add(x)\n",
    "        self.add(x)"
   ]
  },
  {
   "cell_type": "code",
   "execution_count": 63,
   "metadata": {
    "colab": {
     "base_uri": "https://localhost:8080/",
     "height": 33
    },
    "id": "6GOgcpxiKgV5",
    "outputId": "1a141802-e9ac-43da-e861-bc70eff5b407"
   },
   "outputs": [
    {
     "name": "stdout",
     "output_type": "stream",
     "text": [
      "[5, 10, 10]\n"
     ]
    }
   ],
   "source": [
    "a = Bag()\n",
    "a.add(5)\n",
    "a.addtwice(10)\n",
    "print(a.data)"
   ]
  },
  {
   "cell_type": "code",
   "execution_count": 64,
   "metadata": {
    "colab": {
     "base_uri": "https://localhost:8080/",
     "height": 50
    },
    "id": "-JEl5FfgKq5n",
    "outputId": "fa285754-1bc3-4146-928c-83d05079fce0"
   },
   "outputs": [
    {
     "name": "stdout",
     "output_type": "stream",
     "text": [
      "Geek1 False\n",
      "Geek2 True\n"
     ]
    }
   ],
   "source": [
    "class Person(object): \n",
    "       \n",
    "    # Constructor \n",
    "    def __init__(self, name): \n",
    "        self.name = name \n",
    "   \n",
    "    # To get name \n",
    "    def getName(self): \n",
    "        return self.name \n",
    "   \n",
    "    # To check if this person is employee \n",
    "    def isEmployee(self): \n",
    "        return False\n",
    "   \n",
    "   \n",
    "# Inherited or Sub class (Note Person in bracket) \n",
    "class Employee(Person): \n",
    "   \n",
    "    # Here we return true \n",
    "    def isEmployee(self): \n",
    "        return True\n",
    "   \n",
    "# Driver code \n",
    "emp = Person(\"Geek1\")  # An Object of Person \n",
    "print(emp.getName(), emp.isEmployee()) \n",
    "   \n",
    "emp = Employee(\"Geek2\") # An Object of Employee \n",
    "print(emp.getName(), emp.isEmployee()) "
   ]
  },
  {
   "cell_type": "code",
   "execution_count": 65,
   "metadata": {
    "colab": {
     "base_uri": "https://localhost:8080/",
     "height": 83
    },
    "id": "RR0qVBzEO0Pk",
    "outputId": "984dfbb3-15bc-426d-9e96-cf6fbf98819f"
   },
   "outputs": [
    {
     "name": "stdout",
     "output_type": "stream",
     "text": [
      "Base1\n",
      "Base2\n",
      "Derived\n",
      "Geek1 Geek2\n"
     ]
    }
   ],
   "source": [
    "class Base1(object): \n",
    "    def __init__(self): \n",
    "        self.str1 = \"Geek1\"\n",
    "        print(\"Base1\")\n",
    "  \n",
    "class Base2(object): \n",
    "    def __init__(self): \n",
    "        self.str2 = \"Geek2\"        \n",
    "        print(\"Base2\")\n",
    "  \n",
    "class Derived(Base1, Base2): \n",
    "    def __init__(self): \n",
    "          \n",
    "        # Calling constructors of Base1 \n",
    "        # and Base2 classes \n",
    "        Base1.__init__(self) \n",
    "        Base2.__init__(self) \n",
    "        print(\"Derived\")\n",
    "          \n",
    "    def printStrs(self): \n",
    "        print(self.str1, self.str2) \n",
    "         \n",
    "  \n",
    "ob = Derived() \n",
    "ob.printStrs() "
   ]
  },
  {
   "cell_type": "code",
   "execution_count": 66,
   "metadata": {
    "colab": {
     "base_uri": "https://localhost:8080/",
     "height": 33
    },
    "id": "Dks5b-Z4Pup1",
    "outputId": "d618a323-1353-4428-c085-11a3f137e79c"
   },
   "outputs": [
    {
     "name": "stdout",
     "output_type": "stream",
     "text": [
      "Geek1 23 Noida\n"
     ]
    }
   ],
   "source": [
    "class Base(object): \n",
    "      \n",
    "    # Constructor \n",
    "    def __init__(self, name): \n",
    "        self.name = name \n",
    "  \n",
    "    # To get name \n",
    "    def getName(self): \n",
    "        return self.name \n",
    "  \n",
    "  \n",
    "# Inherited or Sub class (Note Person in bracket) \n",
    "class Child(Base): \n",
    "      \n",
    "    # Constructor \n",
    "    def __init__(self, name, age): \n",
    "        Base.__init__(self, name) \n",
    "        self.age = age \n",
    "  \n",
    "    # To get name \n",
    "    def getAge(self): \n",
    "        return self.age \n",
    "  \n",
    "# Inherited or Sub class (Note Person in bracket) \n",
    "class GrandChild(Child): \n",
    "      \n",
    "    # Constructor \n",
    "    def __init__(self, name, age, address): \n",
    "        Child.__init__(self, name, age) \n",
    "        self.address = address \n",
    "  \n",
    "    # To get address \n",
    "    def getAddress(self): \n",
    "        return self.address         \n",
    "  \n",
    "# Driver code \n",
    "g = GrandChild(\"Geek1\", 23, \"Noida\")   \n",
    "print(g.getName(), g.getAge(), g.getAddress()) "
   ]
  },
  {
   "cell_type": "code",
   "execution_count": 67,
   "metadata": {
    "id": "Ebd1xfflQmtd"
   },
   "outputs": [],
   "source": [
    "# first parent class \n",
    "class Person(object):                   \n",
    "      def __init__(self, name, idnumber): \n",
    "            self.name = name \n",
    "            self.idnumber = idnumber \n",
    "  \n",
    "# second parent class       \n",
    "class Employee(object):                 \n",
    "      def __init__(self, salary, post): \n",
    "            self.salary = salary \n",
    "            self.post = post \n",
    "  \n",
    "# inheritance from both the parent classes       \n",
    "class Leader(Person, Employee):         \n",
    "      def __init__(self, name, idnumber, salary, post, points): \n",
    "            self.points = points \n",
    "            Person.__init__(self, name, idnumber) \n",
    "            Employee.__init__(self, salary, post)    \n"
   ]
  },
  {
   "cell_type": "code",
   "execution_count": 68,
   "metadata": {
    "colab": {
     "base_uri": "https://localhost:8080/",
     "height": 50
    },
    "id": "0HcYM0o9RS5h",
    "outputId": "c17f8a4d-d431-4753-9749-73eef47d184c"
   },
   "outputs": [
    {
     "name": "stdout",
     "output_type": "stream",
     "text": [
      "method1 of class B\n",
      "method1 of class A\n"
     ]
    }
   ],
   "source": [
    "# Base Class \n",
    "class A(object):                 \n",
    "        def __init__(self): \n",
    "                constant1 = 1\n",
    "        def method1(self): \n",
    "                print('method1 of class A') \n",
    "  \n",
    "class B(A): \n",
    "        def __init__(self): \n",
    "                constant2 = 2\n",
    "                self.calling1() \n",
    "                A.__init__(self) \n",
    "        def method1(self): \n",
    "                print('method1 of class B') \n",
    "        def calling1(self): \n",
    "                self.method1() \n",
    "                A.method1(self) \n",
    "b = B() "
   ]
  },
  {
   "cell_type": "code",
   "execution_count": 69,
   "metadata": {
    "colab": {
     "base_uri": "https://localhost:8080/",
     "height": 66
    },
    "id": "tDCDhwb0RWQ0",
    "outputId": "93038174-f0ba-4323-d5f2-b6a559ae614e"
   },
   "outputs": [
    {
     "name": "stdout",
     "output_type": "stream",
     "text": [
      "function of class C\n",
      "function of class B\n",
      "function of class A\n"
     ]
    }
   ],
   "source": [
    "class A(object): \n",
    "        def function1(self): \n",
    "                print('function of class A')\n",
    "class B(A): \n",
    "        def function1(self): \n",
    "                print('function of class B')\n",
    "                super(B, self).function1() \n",
    "class C(B): \n",
    "        def function1(self): \n",
    "                print('function of class C')\n",
    "                super(C, self).function1() \n",
    "j = C() \n",
    "j.function1() "
   ]
  },
  {
   "cell_type": "code",
   "execution_count": 70,
   "metadata": {
    "id": "RvqXwLlDRk5y"
   },
   "outputs": [],
   "source": [
    "import torch.nn as nn\n",
    "import torch.nn.functional as F\n",
    "\n",
    "class Model(nn.Module):\n",
    "    def __init__(self):\n",
    "        super(Model, self).__init__()\n",
    "        self.conv1 = nn.Conv2d(1, 20, 5)\n",
    "        self.conv2 = nn.Conv2d(20, 20, 5)\n",
    "\n",
    "    def forward(self, x):\n",
    "        x = F.relu(self.conv1(x))\n",
    "        return F.relu(self.conv2(x))"
   ]
  },
  {
   "cell_type": "code",
   "execution_count": 71,
   "metadata": {
    "colab": {
     "base_uri": "https://localhost:8080/",
     "height": 83
    },
    "id": "TSNtTXXwU1tV",
    "outputId": "87de197c-41bb-4511-eabd-d429d4046413"
   },
   "outputs": [
    {
     "name": "stdout",
     "output_type": "stream",
     "text": [
      "Model(\n",
      "  (conv1): Conv2d(1, 20, kernel_size=(5, 5), stride=(1, 1))\n",
      "  (conv2): Conv2d(20, 20, kernel_size=(5, 5), stride=(1, 1))\n",
      ")\n"
     ]
    }
   ],
   "source": [
    "model = Model()\n",
    "print(model)"
   ]
  },
  {
   "cell_type": "code",
   "execution_count": 72,
   "metadata": {
    "colab": {
     "base_uri": "https://localhost:8080/",
     "height": 150
    },
    "id": "QlYmOgn1no_b",
    "outputId": "e477280e-659b-4313-8b8b-d7466d40549e"
   },
   "outputs": [
    {
     "name": "stdout",
     "output_type": "stream",
     "text": [
      "0\n",
      "1\n",
      "2\n",
      "3\n",
      "0\n",
      "1\n",
      "2\n",
      "3\n"
     ]
    }
   ],
   "source": [
    "lst = [0,1,2,3,4,5,6]\n",
    "it = iter(lst)\n",
    "print(it.__next__())\n",
    "print(it.__next__())\n",
    "print(it.__next__())\n",
    "print(it.__next__())\n",
    "\n",
    "it = iter(lst)\n",
    "print(it.__next__())\n",
    "print(it.__next__())\n",
    "print(it.__next__())\n",
    "print(it.__next__())"
   ]
  },
  {
   "cell_type": "markdown",
   "metadata": {
    "id": "wb0hwcqtXjZR"
   },
   "source": [
    "### Magic function\n",
    "\n",
    "**__init__()** , **__next__()**, **__repr__()** are called magic function. They have special builtin purpose."
   ]
  },
  {
   "cell_type": "code",
   "execution_count": 73,
   "metadata": {
    "colab": {
     "base_uri": "https://localhost:8080/",
     "height": 175
    },
    "id": "dnjHx-vZps6h",
    "outputId": "d72e289a-c346-49a7-e2f3-5ab11851242c"
   },
   "outputs": [
    {
     "name": "stdout",
     "output_type": "stream",
     "text": [
      "hello\n",
      "0\n",
      "1\n",
      "2\n",
      "3\n",
      "0\n",
      "1\n",
      "2\n",
      "3\n"
     ]
    }
   ],
   "source": [
    "class myRange:\n",
    "    def __init__(self, start, end, increment=1):\n",
    "        self.start = start\n",
    "        self.end = end\n",
    "        self.curr_num = start\n",
    "        self.increment = increment\n",
    "\n",
    "    def __iter__(self):\n",
    "        self.curr_num = self.start\n",
    "        return self\n",
    "\n",
    "    def __next__(self):\n",
    "        if(self.curr_num >= self.end):\n",
    "            raise StopIteration\n",
    "        self.curr_num += self.increment\n",
    "        return self.curr_num-self.increment\n",
    "    \n",
    "    def __repr__(self):\n",
    "      return \"hello\"\n",
    "\n",
    "range_object = myRange(0, 4)\n",
    "print(range_object)\n",
    "object_iter = iter(range_object)\n",
    "print(next(object_iter))\n",
    "print(next(object_iter))\n",
    "print(next(object_iter))\n",
    "print(next(object_iter))\n",
    "\n",
    "object_iter = iter(range_object)\n",
    "print(next(object_iter))\n",
    "print(next(object_iter))\n",
    "print(next(object_iter))\n",
    "print(next(object_iter))\n"
   ]
  },
  {
   "cell_type": "code",
   "execution_count": 75,
   "metadata": {
    "colab": {
     "base_uri": "https://localhost:8080/",
     "height": 66
    },
    "id": "DFS6sWIeYEZj",
    "outputId": "679498e9-a464-4fc9-87d5-8bb18ec8c34e"
   },
   "outputs": [
    {
     "name": "stdout",
     "output_type": "stream",
     "text": [
      "False\n",
      "True\n",
      "False\n"
     ]
    }
   ],
   "source": [
    "class Node:\n",
    "    \"\"\" A struct to denote the node of a binary tree.\n",
    "    It contains a value and pointers to left and right children.\n",
    "    \"\"\"\n",
    "    def __init__(self, value, left=None, right=None):\n",
    "        self.value = value\n",
    "        self.left = left\n",
    "        self.right = right\n",
    "\n",
    "    def __eq__(self, other):\n",
    "        return self.value == other.value\n",
    "\n",
    "    def __lt__(self, other):\n",
    "        return self.value < other.value\n",
    "\n",
    "    def __ge__(self, other):\n",
    "        return self.value >= other.value\n",
    "\n",
    "\n",
    "left = Node(4)\n",
    "root = Node(5, left)\n",
    "print(left == root) # False\n",
    "print(left < root) # True\n",
    "print(left >= root) # False"
   ]
  },
  {
   "cell_type": "code",
   "execution_count": 76,
   "metadata": {
    "colab": {
     "base_uri": "https://localhost:8080/",
     "height": 133
    },
    "id": "DGYRZ-Wd3IN8",
    "outputId": "02bdeee0-f9ce-4e87-896d-1638f9ef2a1d"
   },
   "outputs": [
    {
     "name": "stdout",
     "output_type": "stream",
     "text": [
      "a\n",
      "b\n",
      "c\n",
      "d\n",
      "e\n",
      "f\n",
      "g\n"
     ]
    }
   ],
   "source": [
    "letters = ['a', 'b', 'c', 'd', 'e', 'f', 'g']\n",
    "for letter in letters:\n",
    "  print(letter)"
   ]
  },
  {
   "cell_type": "markdown",
   "metadata": {
    "id": "PnGMs3cPixxS"
   },
   "source": [
    "# 10. Asserts and exceptions\n",
    "\n",
    "Great for integrating fact check when you are running a big simulation.\n",
    "\n",
    "- get back to `ask_ok()`"
   ]
  },
  {
   "cell_type": "code",
   "execution_count": 77,
   "metadata": {
    "id": "k2QhlD_Zzl1s"
   },
   "outputs": [],
   "source": [
    "assert fibonacci(3) == [0, 1, 1, 2]\n",
    "assert isLeapYear(2000) == True\n",
    "assert grader(50) == 'Fail'"
   ]
  },
  {
   "cell_type": "code",
   "execution_count": 78,
   "metadata": {
    "id": "A2uPzpG20kjL"
   },
   "outputs": [
    {
     "ename": "AssertionError",
     "evalue": "",
     "output_type": "error",
     "traceback": [
      "\u001b[0;31m---------------------------------------------------------------------------\u001b[0m",
      "\u001b[0;31mAssertionError\u001b[0m                            Traceback (most recent call last)",
      "Cell \u001b[0;32mIn[78], line 1\u001b[0m\n\u001b[0;32m----> 1\u001b[0m \u001b[38;5;28;01massert\u001b[39;00m fibonacci(\u001b[38;5;241m5\u001b[39m) \u001b[38;5;241m==\u001b[39m [\u001b[38;5;241m0\u001b[39m, \u001b[38;5;241m0\u001b[39m, \u001b[38;5;241m1\u001b[39m, \u001b[38;5;241m2\u001b[39m, \u001b[38;5;241m3\u001b[39m]\n",
      "\u001b[0;31mAssertionError\u001b[0m: "
     ]
    }
   ],
   "source": [
    "assert fibonacci(5) == [0, 0, 1, 2, 3]  # will raise an error"
   ]
  },
  {
   "cell_type": "code",
   "execution_count": 79,
   "metadata": {
    "id": "z0GruH6r1F6L"
   },
   "outputs": [
    {
     "ename": "AssertionError",
     "evalue": "",
     "output_type": "error",
     "traceback": [
      "\u001b[0;31m---------------------------------------------------------------------------\u001b[0m",
      "\u001b[0;31mAssertionError\u001b[0m                            Traceback (most recent call last)",
      "Cell \u001b[0;32mIn[79], line 3\u001b[0m\n\u001b[1;32m      1\u001b[0m it \u001b[38;5;241m=\u001b[39m data_iterator(data, is_stop \u001b[38;5;241m=\u001b[39m \u001b[38;5;28;01mTrue\u001b[39;00m, is_shuffle \u001b[38;5;241m=\u001b[39m \u001b[38;5;28;01mTrue\u001b[39;00m, batch_size\u001b[38;5;241m=\u001b[39m\u001b[38;5;241m3\u001b[39m)\n\u001b[1;32m      2\u001b[0m \u001b[38;5;28;01mfor\u001b[39;00m i \u001b[38;5;129;01min\u001b[39;00m it:\n\u001b[0;32m----> 3\u001b[0m   \u001b[38;5;28;01massert\u001b[39;00m \u001b[38;5;28mlen\u001b[39m(i)\u001b[38;5;241m==\u001b[39m\u001b[38;5;241m3\u001b[39m\n",
      "\u001b[0;31mAssertionError\u001b[0m: "
     ]
    }
   ],
   "source": [
    "it = data_iterator(data, is_stop = True, is_shuffle = True, batch_size=3)\n",
    "for i in it:\n",
    "  assert len(i)==3"
   ]
  },
  {
   "cell_type": "code",
   "execution_count": 80,
   "metadata": {
    "id": "lFAR3ZM71fZN"
   },
   "outputs": [
    {
     "name": "stdout",
     "output_type": "stream",
     "text": [
      "Warning, there is a problem with length of the generator's output.\n"
     ]
    },
    {
     "ename": "AssertionError",
     "evalue": "",
     "output_type": "error",
     "traceback": [
      "\u001b[0;31m---------------------------------------------------------------------------\u001b[0m",
      "\u001b[0;31mAssertionError\u001b[0m                            Traceback (most recent call last)",
      "Cell \u001b[0;32mIn[80], line 4\u001b[0m\n\u001b[1;32m      2\u001b[0m \u001b[38;5;28;01mfor\u001b[39;00m i \u001b[38;5;129;01min\u001b[39;00m it:\n\u001b[1;32m      3\u001b[0m   \u001b[38;5;28;01mtry\u001b[39;00m:\n\u001b[0;32m----> 4\u001b[0m     \u001b[38;5;28;01massert\u001b[39;00m \u001b[38;5;28mlen\u001b[39m(i)\u001b[38;5;241m==\u001b[39m\u001b[38;5;241m3\u001b[39m\n\u001b[1;32m      5\u001b[0m   \u001b[38;5;28;01mexcept\u001b[39;00m:\n\u001b[1;32m      6\u001b[0m     \u001b[38;5;28mprint\u001b[39m(\u001b[38;5;124m\"\u001b[39m\u001b[38;5;124mWarning, there is a problem with length of the generator\u001b[39m\u001b[38;5;124m'\u001b[39m\u001b[38;5;124ms output.\u001b[39m\u001b[38;5;124m\"\u001b[39m)\n",
      "\u001b[0;31mAssertionError\u001b[0m: "
     ]
    }
   ],
   "source": [
    "it = data_iterator(data, is_stop = True, is_shuffle = True, batch_size=3)\n",
    "for i in it:\n",
    "  try:\n",
    "    assert len(i)==3\n",
    "  except:\n",
    "    print(\"Warning, there is a problem with length of the generator's output.\")\n",
    "    raise"
   ]
  },
  {
   "cell_type": "markdown",
   "metadata": {
    "id": "mJlQRQmvgJck"
   },
   "source": [
    "# 11. Input Output (I/O)\n",
    "\n",
    "- Take input from keyboard\n",
    "- Read and write from a text file"
   ]
  },
  {
   "cell_type": "code",
   "execution_count": 81,
   "metadata": {
    "id": "1eNvo5_L50GC"
   },
   "outputs": [
    {
     "name": "stdout",
     "output_type": "stream",
     "text": [
      "Write something : hh\n",
      "hh <class 'str'>\n",
      "Write an integer : 67\n",
      "67 <class 'int'>\n",
      "Write something : 89.8\n",
      "89.8 <class 'float'>\n"
     ]
    }
   ],
   "source": [
    "a = input(\"Write something : \")\n",
    "print(a, type(a))\n",
    "b = int(input(\"Write an integer : \"))\n",
    "print(b, type(b))\n",
    "c = float(input(\"Write something : \"))\n",
    "print(c, type(c))"
   ]
  },
  {
   "cell_type": "markdown",
   "metadata": {
    "id": "s5MrgCWn630-"
   },
   "source": [
    "Let's write some text in a file"
   ]
  },
  {
   "cell_type": "code",
   "execution_count": 82,
   "metadata": {
    "id": "LMNdbW_n6lQq"
   },
   "outputs": [
    {
     "data": {
      "text/plain": [
       "<function TextIOWrapper.close()>"
      ]
     },
     "execution_count": 82,
     "metadata": {},
     "output_type": "execute_result"
    }
   ],
   "source": [
    "filePtr = open(\"text.txt\", \"w\", encoding=\"utf-8\")\n",
    "sentences = [\"Do you know?\", \"why it so popular.\", \"The quick brown fox runs over the lazy dog\"]\n",
    "for sentence in sentences:\n",
    "  filePtr.write(sentence)\n",
    "filePtr.close"
   ]
  },
  {
   "cell_type": "code",
   "execution_count": 83,
   "metadata": {
    "id": "89wXMcPB7xf1"
   },
   "outputs": [],
   "source": [
    "sentences = [\"Do you know?\", \"why it so popular.\", \"The quick brown fox runs over the lazy dog\"]\n",
    "with open(\"text.txt\", \"w\", encoding=\"utf-8\") as filePtr:\n",
    "  for sentence in sentences:\n",
    "    filePtr.write(sentence+\"\\n\")"
   ]
  },
  {
   "cell_type": "code",
   "execution_count": 84,
   "metadata": {
    "id": "hPyPwIcL68Bv"
   },
   "outputs": [
    {
     "name": "stdout",
     "output_type": "stream",
     "text": [
      "Do you know?\n",
      "\n",
      "why it so popular.\n",
      "\n",
      "The quick brown fox runs over the lazy dog\n",
      "\n"
     ]
    }
   ],
   "source": [
    "with open(\"text.txt\", \"r\", encoding=\"utf-8\") as filePtr:\n",
    "  for line in filePtr:\n",
    "    print(line)"
   ]
  },
  {
   "cell_type": "markdown",
   "metadata": {
    "id": "22wXWh0W7rIE"
   },
   "source": [
    "## Python object serialization\n",
    "https://docs.python.org/3/library/pickle.html"
   ]
  },
  {
   "cell_type": "code",
   "execution_count": 85,
   "metadata": {
    "colab": {
     "base_uri": "https://localhost:8080/",
     "height": 70
    },
    "id": "NjEL26hq6IN9",
    "outputId": "db01c0d2-ffd3-4774-8a94-ec7a88a6687c"
   },
   "outputs": [
    {
     "name": "stdout",
     "output_type": "stream",
     "text": [
      "[100, 122, 15, 19, 100, 500, 900, 100, 100, 122, 15, 66, 100, 500, 88, 100, 100, 122, 20, 19, 100, 500, 77, 100, 10]\n",
      "5 5\n",
      "5 5\n"
     ]
    }
   ],
   "source": [
    "import pickle \n",
    "data = [100, 122, 15, 19, 100, 500, 900, 100, 100, 122, 15, 66, 100, 500, 88, 100, 100, 122, 20, 19, 100, 500, 77, 100, 10]\n",
    "pickle.dump( data, open( \"save.pcl\", \"wb\" ) )\n",
    "data1 = pickle.load( open( \"save.pcl\", \"rb\" ) )\n",
    "print(data) \n",
    "  \n",
    "class B: \n",
    "        def __init__(self): \n",
    "                self.x = 0\n",
    "                self.y = 0 \n",
    "        def add(self, x, y):\n",
    "          self.x = self.x + x\n",
    "          self.y = self.y + y \n",
    "\n",
    "obj = B()\n",
    "obj.add(5, 5)\n",
    "print(obj.x, obj.y)\n",
    "pickle.dump( obj, open( \"save1.pcl\", \"wb\" ) )\n",
    "obj1 = pickle.load( open( \"save1.pcl\", \"rb\" ) )\n",
    "print(obj1.x, obj1.y)"
   ]
  },
  {
   "cell_type": "markdown",
   "metadata": {
    "id": "8FgYrQ1ajKLE"
   },
   "source": [
    "# 12. The Pythonic Way\n",
    "\n",
    "Some cool features in python."
   ]
  },
  {
   "cell_type": "code",
   "execution_count": 86,
   "metadata": {
    "id": "gNVkCVTi-hde"
   },
   "outputs": [
    {
     "name": "stdout",
     "output_type": "stream",
     "text": [
      "0\n",
      "1\n",
      "2\n",
      "3\n",
      "4\n",
      "5\n",
      "6\n",
      "7\n",
      "8\n",
      "9\n"
     ]
    }
   ],
   "source": [
    "for i in range(10):\n",
    "  print(i)"
   ]
  },
  {
   "cell_type": "code",
   "execution_count": 87,
   "metadata": {
    "id": "15PG_22Sk8ou"
   },
   "outputs": [],
   "source": [
    "score = 50\n",
    "isFail = True if score > 40 else False "
   ]
  },
  {
   "cell_type": "code",
   "execution_count": null,
   "metadata": {
    "id": "uLjWC6-U67Vb"
   },
   "outputs": [],
   "source": []
  },
  {
   "cell_type": "code",
   "execution_count": 88,
   "metadata": {
    "colab": {
     "base_uri": "https://localhost:8080/",
     "height": 35
    },
    "id": "wdwHYIIzlOFo",
    "outputId": "d0a56e1f-1c41-4521-f89f-4b591a92fcbe"
   },
   "outputs": [
    {
     "name": "stdout",
     "output_type": "stream",
     "text": [
      "[0, 1, 4, 9, 16, 25, 36, 49, 64, 81, 100, 121, 144, 169, 196, 225, 256, 289, 324, 361]\n"
     ]
    }
   ],
   "source": [
    "lst = [ i*i for i in range(20) ]\n",
    "print(lst)"
   ]
  },
  {
   "cell_type": "code",
   "execution_count": 89,
   "metadata": {
    "id": "I7GTsfzEmXw2"
   },
   "outputs": [
    {
     "name": "stdout",
     "output_type": "stream",
     "text": [
      "[1, 4, 3, 8, 5, 12]\n"
     ]
    }
   ],
   "source": [
    "arr = [1, 2, 3, 4, 5, 6]\n",
    "arr = [x * 2 if x % 2 == 0 else x for x in arr]\n",
    "print(arr)"
   ]
  },
  {
   "cell_type": "code",
   "execution_count": 90,
   "metadata": {
    "id": "tuJ-X16flWIu"
   },
   "outputs": [
    {
     "name": "stdout",
     "output_type": "stream",
     "text": [
      "en {'train': {}, 'valid': {}, 'test': {}}\n",
      "es {'train': {}, 'valid': {}, 'test': {}}\n",
      "de {'train': {}, 'valid': {}, 'test': {}}\n",
      "fr {'train': {}, 'valid': {}, 'test': {}}\n",
      "ar {'train': {}, 'valid': {}, 'test': {}}\n",
      "bg {'train': {}, 'valid': {}, 'test': {}}\n"
     ]
    }
   ],
   "source": [
    "LANGS = [ 'en', 'es', 'de', 'fr', 'ar', 'bg' ]\n",
    "data = {lang: {splt: {} for splt in ['train', 'valid', 'test']} for lang in LANGS}\n",
    "for k,v in data.items():\n",
    "  print(k, v)"
   ]
  },
  {
   "cell_type": "markdown",
   "metadata": {
    "id": "vUXn7fBFjUfb"
   },
   "source": [
    "# 14. Anaconda Package Manager\n",
    "\n",
    "Python has a wide range of library. Sometimes different project use different types of library that may conflict with each other. Meaning we can't use one library while other library is installed. This brings a huge problem.\n",
    "\n",
    "Package manager provides the solution to this problem. Using a package manager we can create different `environment` for different projects and activate those `environment` while we work on each projects. The package remains inside of that environment.\n",
    "\n",
    "As a package manager we will use **[Anaconda](https://www.anaconda.com/)**. You can also use `virtualenv`.\n",
    "\n",
    "Please follow the demo to see how to maintain packages in python by anaconda."
   ]
  },
  {
   "cell_type": "markdown",
   "metadata": {
    "id": "uq6Mf5UKT-vx"
   },
   "source": [
    "**[Credits](https://ntunlpsg.github.io/ce7455_deep-nlp-20/)**"
   ]
  },
  {
   "cell_type": "code",
   "execution_count": null,
   "metadata": {},
   "outputs": [],
   "source": []
  }
 ],
 "metadata": {
  "colab": {
   "provenance": []
  },
  "kernelspec": {
   "display_name": "Python 3 (ipykernel)",
   "language": "python",
   "name": "python3"
  },
  "language_info": {
   "codemirror_mode": {
    "name": "ipython",
    "version": 3
   },
   "file_extension": ".py",
   "mimetype": "text/x-python",
   "name": "python",
   "nbconvert_exporter": "python",
   "pygments_lexer": "ipython3",
   "version": "3.10.10"
  }
 },
 "nbformat": 4,
 "nbformat_minor": 1
}
